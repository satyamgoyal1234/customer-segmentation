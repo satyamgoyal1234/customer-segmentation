{
  "cells": [
    {
      "cell_type": "code",
      "execution_count": null,
      "id": "e40d5652",
      "metadata": {
        "_cell_guid": "b1076dfc-b9ad-4769-8c92-a6c4dae69d19",
        "_uuid": "8f2839f25d086af736a60e9eeb907d3b93b6e0e5",
        "execution": {
          "iopub.execute_input": "2023-05-19T06:47:33.243799Z",
          "iopub.status.busy": "2023-05-19T06:47:33.242351Z",
          "iopub.status.idle": "2023-05-19T06:47:33.262389Z",
          "shell.execute_reply": "2023-05-19T06:47:33.260847Z"
        },
        "papermill": {
          "duration": 0.033352,
          "end_time": "2023-05-19T06:47:33.264659",
          "exception": false,
          "start_time": "2023-05-19T06:47:33.231307",
          "status": "completed"
        },
        "tags": [],
        "id": "e40d5652"
      },
      "outputs": [],
      "source": [
        "# This Python 3 environment comes with many helpful analytics libraries installed\n",
        "# It is defined by the kaggle/python Docker image: https://github.com/kaggle/docker-python\n",
        "# For example, here's several helpful packages to load\n",
        "\n",
        "import numpy as np # linear algebra\n",
        "import pandas as pd # data processing, CSV file I/O (e.g. pd.read_csv)\n",
        "\n",
        "\n",
        "# You can write up to 20GB to the current directory (/kaggle/working/) that gets preserved as output when you create a version using \"Save & Run All\"\n",
        "# You can also write temporary files to /kaggle/temp/, but they won't be saved outside of the current session"
      ]
    },
    {
      "cell_type": "code",
      "execution_count": null,
      "id": "1663a13a",
      "metadata": {
        "execution": {
          "iopub.execute_input": "2023-05-19T06:47:33.284581Z",
          "iopub.status.busy": "2023-05-19T06:47:33.284173Z",
          "iopub.status.idle": "2023-05-19T06:47:35.269108Z",
          "shell.execute_reply": "2023-05-19T06:47:35.267899Z"
        },
        "papermill": {
          "duration": 1.998002,
          "end_time": "2023-05-19T06:47:35.271921",
          "exception": false,
          "start_time": "2023-05-19T06:47:33.273919",
          "status": "completed"
        },
        "tags": [],
        "colab": {
          "base_uri": "https://localhost:8080/",
          "height": 455
        },
        "id": "1663a13a",
        "outputId": "fdb64356-6b0a-4354-d244-2573843e8273"
      },
      "outputs": [
        {
          "output_type": "execute_result",
          "data": {
            "text/plain": [
              "        Gender Ever_Married  Age Graduated     Profession  Work_Experience  \\\n",
              "ID                                                                           \n",
              "462809    Male           No   22        No     Healthcare              1.0   \n",
              "462643  Female          Yes   38       Yes       Engineer              NaN   \n",
              "466315  Female          Yes   67       Yes       Engineer              1.0   \n",
              "461735    Male          Yes   67       Yes         Lawyer              0.0   \n",
              "462669  Female          Yes   40       Yes  Entertainment              NaN   \n",
              "...        ...          ...  ...       ...            ...              ...   \n",
              "464018    Male           No   22        No            NaN              0.0   \n",
              "464685    Male           No   35        No      Executive              3.0   \n",
              "465406  Female           No   33       Yes     Healthcare              1.0   \n",
              "467299  Female           No   27       Yes     Healthcare              1.0   \n",
              "461879    Male          Yes   37       Yes      Executive              0.0   \n",
              "\n",
              "       Spending_Score  Family_Size  Var_1 Segmentation  \n",
              "ID                                                      \n",
              "462809            Low          4.0  Cat_4            D  \n",
              "462643        Average          3.0  Cat_4            A  \n",
              "466315            Low          1.0  Cat_6            B  \n",
              "461735           High          2.0  Cat_6            B  \n",
              "462669           High          6.0  Cat_6            A  \n",
              "...               ...          ...    ...          ...  \n",
              "464018            Low          7.0  Cat_1            D  \n",
              "464685            Low          4.0  Cat_4            D  \n",
              "465406            Low          1.0  Cat_6            D  \n",
              "467299            Low          4.0  Cat_6            B  \n",
              "461879        Average          3.0  Cat_4            B  \n",
              "\n",
              "[8068 rows x 10 columns]"
            ],
            "text/html": [
              "\n",
              "  <div id=\"df-bd8fd1ca-faaa-436e-8beb-21fe99996dcf\" class=\"colab-df-container\">\n",
              "    <div>\n",
              "<style scoped>\n",
              "    .dataframe tbody tr th:only-of-type {\n",
              "        vertical-align: middle;\n",
              "    }\n",
              "\n",
              "    .dataframe tbody tr th {\n",
              "        vertical-align: top;\n",
              "    }\n",
              "\n",
              "    .dataframe thead th {\n",
              "        text-align: right;\n",
              "    }\n",
              "</style>\n",
              "<table border=\"1\" class=\"dataframe\">\n",
              "  <thead>\n",
              "    <tr style=\"text-align: right;\">\n",
              "      <th></th>\n",
              "      <th>Gender</th>\n",
              "      <th>Ever_Married</th>\n",
              "      <th>Age</th>\n",
              "      <th>Graduated</th>\n",
              "      <th>Profession</th>\n",
              "      <th>Work_Experience</th>\n",
              "      <th>Spending_Score</th>\n",
              "      <th>Family_Size</th>\n",
              "      <th>Var_1</th>\n",
              "      <th>Segmentation</th>\n",
              "    </tr>\n",
              "    <tr>\n",
              "      <th>ID</th>\n",
              "      <th></th>\n",
              "      <th></th>\n",
              "      <th></th>\n",
              "      <th></th>\n",
              "      <th></th>\n",
              "      <th></th>\n",
              "      <th></th>\n",
              "      <th></th>\n",
              "      <th></th>\n",
              "      <th></th>\n",
              "    </tr>\n",
              "  </thead>\n",
              "  <tbody>\n",
              "    <tr>\n",
              "      <th>462809</th>\n",
              "      <td>Male</td>\n",
              "      <td>No</td>\n",
              "      <td>22</td>\n",
              "      <td>No</td>\n",
              "      <td>Healthcare</td>\n",
              "      <td>1.0</td>\n",
              "      <td>Low</td>\n",
              "      <td>4.0</td>\n",
              "      <td>Cat_4</td>\n",
              "      <td>D</td>\n",
              "    </tr>\n",
              "    <tr>\n",
              "      <th>462643</th>\n",
              "      <td>Female</td>\n",
              "      <td>Yes</td>\n",
              "      <td>38</td>\n",
              "      <td>Yes</td>\n",
              "      <td>Engineer</td>\n",
              "      <td>NaN</td>\n",
              "      <td>Average</td>\n",
              "      <td>3.0</td>\n",
              "      <td>Cat_4</td>\n",
              "      <td>A</td>\n",
              "    </tr>\n",
              "    <tr>\n",
              "      <th>466315</th>\n",
              "      <td>Female</td>\n",
              "      <td>Yes</td>\n",
              "      <td>67</td>\n",
              "      <td>Yes</td>\n",
              "      <td>Engineer</td>\n",
              "      <td>1.0</td>\n",
              "      <td>Low</td>\n",
              "      <td>1.0</td>\n",
              "      <td>Cat_6</td>\n",
              "      <td>B</td>\n",
              "    </tr>\n",
              "    <tr>\n",
              "      <th>461735</th>\n",
              "      <td>Male</td>\n",
              "      <td>Yes</td>\n",
              "      <td>67</td>\n",
              "      <td>Yes</td>\n",
              "      <td>Lawyer</td>\n",
              "      <td>0.0</td>\n",
              "      <td>High</td>\n",
              "      <td>2.0</td>\n",
              "      <td>Cat_6</td>\n",
              "      <td>B</td>\n",
              "    </tr>\n",
              "    <tr>\n",
              "      <th>462669</th>\n",
              "      <td>Female</td>\n",
              "      <td>Yes</td>\n",
              "      <td>40</td>\n",
              "      <td>Yes</td>\n",
              "      <td>Entertainment</td>\n",
              "      <td>NaN</td>\n",
              "      <td>High</td>\n",
              "      <td>6.0</td>\n",
              "      <td>Cat_6</td>\n",
              "      <td>A</td>\n",
              "    </tr>\n",
              "    <tr>\n",
              "      <th>...</th>\n",
              "      <td>...</td>\n",
              "      <td>...</td>\n",
              "      <td>...</td>\n",
              "      <td>...</td>\n",
              "      <td>...</td>\n",
              "      <td>...</td>\n",
              "      <td>...</td>\n",
              "      <td>...</td>\n",
              "      <td>...</td>\n",
              "      <td>...</td>\n",
              "    </tr>\n",
              "    <tr>\n",
              "      <th>464018</th>\n",
              "      <td>Male</td>\n",
              "      <td>No</td>\n",
              "      <td>22</td>\n",
              "      <td>No</td>\n",
              "      <td>NaN</td>\n",
              "      <td>0.0</td>\n",
              "      <td>Low</td>\n",
              "      <td>7.0</td>\n",
              "      <td>Cat_1</td>\n",
              "      <td>D</td>\n",
              "    </tr>\n",
              "    <tr>\n",
              "      <th>464685</th>\n",
              "      <td>Male</td>\n",
              "      <td>No</td>\n",
              "      <td>35</td>\n",
              "      <td>No</td>\n",
              "      <td>Executive</td>\n",
              "      <td>3.0</td>\n",
              "      <td>Low</td>\n",
              "      <td>4.0</td>\n",
              "      <td>Cat_4</td>\n",
              "      <td>D</td>\n",
              "    </tr>\n",
              "    <tr>\n",
              "      <th>465406</th>\n",
              "      <td>Female</td>\n",
              "      <td>No</td>\n",
              "      <td>33</td>\n",
              "      <td>Yes</td>\n",
              "      <td>Healthcare</td>\n",
              "      <td>1.0</td>\n",
              "      <td>Low</td>\n",
              "      <td>1.0</td>\n",
              "      <td>Cat_6</td>\n",
              "      <td>D</td>\n",
              "    </tr>\n",
              "    <tr>\n",
              "      <th>467299</th>\n",
              "      <td>Female</td>\n",
              "      <td>No</td>\n",
              "      <td>27</td>\n",
              "      <td>Yes</td>\n",
              "      <td>Healthcare</td>\n",
              "      <td>1.0</td>\n",
              "      <td>Low</td>\n",
              "      <td>4.0</td>\n",
              "      <td>Cat_6</td>\n",
              "      <td>B</td>\n",
              "    </tr>\n",
              "    <tr>\n",
              "      <th>461879</th>\n",
              "      <td>Male</td>\n",
              "      <td>Yes</td>\n",
              "      <td>37</td>\n",
              "      <td>Yes</td>\n",
              "      <td>Executive</td>\n",
              "      <td>0.0</td>\n",
              "      <td>Average</td>\n",
              "      <td>3.0</td>\n",
              "      <td>Cat_4</td>\n",
              "      <td>B</td>\n",
              "    </tr>\n",
              "  </tbody>\n",
              "</table>\n",
              "<p>8068 rows × 10 columns</p>\n",
              "</div>\n",
              "    <div class=\"colab-df-buttons\">\n",
              "\n",
              "  <div class=\"colab-df-container\">\n",
              "    <button class=\"colab-df-convert\" onclick=\"convertToInteractive('df-bd8fd1ca-faaa-436e-8beb-21fe99996dcf')\"\n",
              "            title=\"Convert this dataframe to an interactive table.\"\n",
              "            style=\"display:none;\">\n",
              "\n",
              "  <svg xmlns=\"http://www.w3.org/2000/svg\" height=\"24px\" viewBox=\"0 -960 960 960\">\n",
              "    <path d=\"M120-120v-720h720v720H120Zm60-500h600v-160H180v160Zm220 220h160v-160H400v160Zm0 220h160v-160H400v160ZM180-400h160v-160H180v160Zm440 0h160v-160H620v160ZM180-180h160v-160H180v160Zm440 0h160v-160H620v160Z\"/>\n",
              "  </svg>\n",
              "    </button>\n",
              "\n",
              "  <style>\n",
              "    .colab-df-container {\n",
              "      display:flex;\n",
              "      gap: 12px;\n",
              "    }\n",
              "\n",
              "    .colab-df-convert {\n",
              "      background-color: #E8F0FE;\n",
              "      border: none;\n",
              "      border-radius: 50%;\n",
              "      cursor: pointer;\n",
              "      display: none;\n",
              "      fill: #1967D2;\n",
              "      height: 32px;\n",
              "      padding: 0 0 0 0;\n",
              "      width: 32px;\n",
              "    }\n",
              "\n",
              "    .colab-df-convert:hover {\n",
              "      background-color: #E2EBFA;\n",
              "      box-shadow: 0px 1px 2px rgba(60, 64, 67, 0.3), 0px 1px 3px 1px rgba(60, 64, 67, 0.15);\n",
              "      fill: #174EA6;\n",
              "    }\n",
              "\n",
              "    .colab-df-buttons div {\n",
              "      margin-bottom: 4px;\n",
              "    }\n",
              "\n",
              "    [theme=dark] .colab-df-convert {\n",
              "      background-color: #3B4455;\n",
              "      fill: #D2E3FC;\n",
              "    }\n",
              "\n",
              "    [theme=dark] .colab-df-convert:hover {\n",
              "      background-color: #434B5C;\n",
              "      box-shadow: 0px 1px 3px 1px rgba(0, 0, 0, 0.15);\n",
              "      filter: drop-shadow(0px 1px 2px rgba(0, 0, 0, 0.3));\n",
              "      fill: #FFFFFF;\n",
              "    }\n",
              "  </style>\n",
              "\n",
              "    <script>\n",
              "      const buttonEl =\n",
              "        document.querySelector('#df-bd8fd1ca-faaa-436e-8beb-21fe99996dcf button.colab-df-convert');\n",
              "      buttonEl.style.display =\n",
              "        google.colab.kernel.accessAllowed ? 'block' : 'none';\n",
              "\n",
              "      async function convertToInteractive(key) {\n",
              "        const element = document.querySelector('#df-bd8fd1ca-faaa-436e-8beb-21fe99996dcf');\n",
              "        const dataTable =\n",
              "          await google.colab.kernel.invokeFunction('convertToInteractive',\n",
              "                                                    [key], {});\n",
              "        if (!dataTable) return;\n",
              "\n",
              "        const docLinkHtml = 'Like what you see? Visit the ' +\n",
              "          '<a target=\"_blank\" href=https://colab.research.google.com/notebooks/data_table.ipynb>data table notebook</a>'\n",
              "          + ' to learn more about interactive tables.';\n",
              "        element.innerHTML = '';\n",
              "        dataTable['output_type'] = 'display_data';\n",
              "        await google.colab.output.renderOutput(dataTable, element);\n",
              "        const docLink = document.createElement('div');\n",
              "        docLink.innerHTML = docLinkHtml;\n",
              "        element.appendChild(docLink);\n",
              "      }\n",
              "    </script>\n",
              "  </div>\n",
              "\n",
              "\n",
              "<div id=\"df-e33f7525-2a23-45e0-a320-23eafb655c6a\">\n",
              "  <button class=\"colab-df-quickchart\" onclick=\"quickchart('df-e33f7525-2a23-45e0-a320-23eafb655c6a')\"\n",
              "            title=\"Suggest charts.\"\n",
              "            style=\"display:none;\">\n",
              "\n",
              "<svg xmlns=\"http://www.w3.org/2000/svg\" height=\"24px\"viewBox=\"0 0 24 24\"\n",
              "     width=\"24px\">\n",
              "    <g>\n",
              "        <path d=\"M19 3H5c-1.1 0-2 .9-2 2v14c0 1.1.9 2 2 2h14c1.1 0 2-.9 2-2V5c0-1.1-.9-2-2-2zM9 17H7v-7h2v7zm4 0h-2V7h2v10zm4 0h-2v-4h2v4z\"/>\n",
              "    </g>\n",
              "</svg>\n",
              "  </button>\n",
              "\n",
              "<style>\n",
              "  .colab-df-quickchart {\n",
              "      --bg-color: #E8F0FE;\n",
              "      --fill-color: #1967D2;\n",
              "      --hover-bg-color: #E2EBFA;\n",
              "      --hover-fill-color: #174EA6;\n",
              "      --disabled-fill-color: #AAA;\n",
              "      --disabled-bg-color: #DDD;\n",
              "  }\n",
              "\n",
              "  [theme=dark] .colab-df-quickchart {\n",
              "      --bg-color: #3B4455;\n",
              "      --fill-color: #D2E3FC;\n",
              "      --hover-bg-color: #434B5C;\n",
              "      --hover-fill-color: #FFFFFF;\n",
              "      --disabled-bg-color: #3B4455;\n",
              "      --disabled-fill-color: #666;\n",
              "  }\n",
              "\n",
              "  .colab-df-quickchart {\n",
              "    background-color: var(--bg-color);\n",
              "    border: none;\n",
              "    border-radius: 50%;\n",
              "    cursor: pointer;\n",
              "    display: none;\n",
              "    fill: var(--fill-color);\n",
              "    height: 32px;\n",
              "    padding: 0;\n",
              "    width: 32px;\n",
              "  }\n",
              "\n",
              "  .colab-df-quickchart:hover {\n",
              "    background-color: var(--hover-bg-color);\n",
              "    box-shadow: 0 1px 2px rgba(60, 64, 67, 0.3), 0 1px 3px 1px rgba(60, 64, 67, 0.15);\n",
              "    fill: var(--button-hover-fill-color);\n",
              "  }\n",
              "\n",
              "  .colab-df-quickchart-complete:disabled,\n",
              "  .colab-df-quickchart-complete:disabled:hover {\n",
              "    background-color: var(--disabled-bg-color);\n",
              "    fill: var(--disabled-fill-color);\n",
              "    box-shadow: none;\n",
              "  }\n",
              "\n",
              "  .colab-df-spinner {\n",
              "    border: 2px solid var(--fill-color);\n",
              "    border-color: transparent;\n",
              "    border-bottom-color: var(--fill-color);\n",
              "    animation:\n",
              "      spin 1s steps(1) infinite;\n",
              "  }\n",
              "\n",
              "  @keyframes spin {\n",
              "    0% {\n",
              "      border-color: transparent;\n",
              "      border-bottom-color: var(--fill-color);\n",
              "      border-left-color: var(--fill-color);\n",
              "    }\n",
              "    20% {\n",
              "      border-color: transparent;\n",
              "      border-left-color: var(--fill-color);\n",
              "      border-top-color: var(--fill-color);\n",
              "    }\n",
              "    30% {\n",
              "      border-color: transparent;\n",
              "      border-left-color: var(--fill-color);\n",
              "      border-top-color: var(--fill-color);\n",
              "      border-right-color: var(--fill-color);\n",
              "    }\n",
              "    40% {\n",
              "      border-color: transparent;\n",
              "      border-right-color: var(--fill-color);\n",
              "      border-top-color: var(--fill-color);\n",
              "    }\n",
              "    60% {\n",
              "      border-color: transparent;\n",
              "      border-right-color: var(--fill-color);\n",
              "    }\n",
              "    80% {\n",
              "      border-color: transparent;\n",
              "      border-right-color: var(--fill-color);\n",
              "      border-bottom-color: var(--fill-color);\n",
              "    }\n",
              "    90% {\n",
              "      border-color: transparent;\n",
              "      border-bottom-color: var(--fill-color);\n",
              "    }\n",
              "  }\n",
              "</style>\n",
              "\n",
              "  <script>\n",
              "    async function quickchart(key) {\n",
              "      const quickchartButtonEl =\n",
              "        document.querySelector('#' + key + ' button');\n",
              "      quickchartButtonEl.disabled = true;  // To prevent multiple clicks.\n",
              "      quickchartButtonEl.classList.add('colab-df-spinner');\n",
              "      try {\n",
              "        const charts = await google.colab.kernel.invokeFunction(\n",
              "            'suggestCharts', [key], {});\n",
              "      } catch (error) {\n",
              "        console.error('Error during call to suggestCharts:', error);\n",
              "      }\n",
              "      quickchartButtonEl.classList.remove('colab-df-spinner');\n",
              "      quickchartButtonEl.classList.add('colab-df-quickchart-complete');\n",
              "    }\n",
              "    (() => {\n",
              "      let quickchartButtonEl =\n",
              "        document.querySelector('#df-e33f7525-2a23-45e0-a320-23eafb655c6a button');\n",
              "      quickchartButtonEl.style.display =\n",
              "        google.colab.kernel.accessAllowed ? 'block' : 'none';\n",
              "    })();\n",
              "  </script>\n",
              "</div>\n",
              "    </div>\n",
              "  </div>\n"
            ]
          },
          "metadata": {},
          "execution_count": 2
        }
      ],
      "source": [
        "#importing all required libraries\n",
        "import matplotlib.pyplot as plt\n",
        "import seaborn as sns\n",
        "from sklearn.linear_model import LogisticRegression\n",
        "from sklearn.naive_bayes import MultinomialNB\n",
        "from sklearn.neighbors import KNeighborsClassifier\n",
        "from sklearn.tree import DecisionTreeClassifier\n",
        "from sklearn.svm import SVC\n",
        "from sklearn.metrics import accuracy_score,confusion_matrix,classification_report\n",
        "from sklearn.model_selection import train_test_split\n",
        "from sklearn.model_selection import cross_val_score\n",
        "df=pd.read_csv('Trained.csv',index_col='ID')\n",
        "df"
      ]
    },
    {
      "cell_type": "code",
      "execution_count": null,
      "id": "e9d1ffaf",
      "metadata": {
        "execution": {
          "iopub.execute_input": "2023-05-19T06:47:35.292902Z",
          "iopub.status.busy": "2023-05-19T06:47:35.292497Z",
          "iopub.status.idle": "2023-05-19T06:47:35.298983Z",
          "shell.execute_reply": "2023-05-19T06:47:35.298208Z"
        },
        "papermill": {
          "duration": 0.019439,
          "end_time": "2023-05-19T06:47:35.300613",
          "exception": false,
          "start_time": "2023-05-19T06:47:35.281174",
          "status": "completed"
        },
        "tags": [],
        "colab": {
          "base_uri": "https://localhost:8080/"
        },
        "id": "e9d1ffaf",
        "outputId": "39e8469c-8dba-40ba-923b-fbf5b493f32f"
      },
      "outputs": [
        {
          "output_type": "execute_result",
          "data": {
            "text/plain": [
              "Gender              object\n",
              "Ever_Married        object\n",
              "Age                  int64\n",
              "Graduated           object\n",
              "Profession          object\n",
              "Work_Experience    float64\n",
              "Spending_Score      object\n",
              "Family_Size        float64\n",
              "Var_1               object\n",
              "Segmentation        object\n",
              "dtype: object"
            ]
          },
          "metadata": {},
          "execution_count": 3
        }
      ],
      "source": [
        "#data types of each column\n",
        "df.dtypes"
      ]
    },
    {
      "cell_type": "code",
      "execution_count": null,
      "id": "5aa7206c",
      "metadata": {
        "execution": {
          "iopub.execute_input": "2023-05-19T06:47:35.322778Z",
          "iopub.status.busy": "2023-05-19T06:47:35.321701Z",
          "iopub.status.idle": "2023-05-19T06:47:35.338890Z",
          "shell.execute_reply": "2023-05-19T06:47:35.337542Z"
        },
        "papermill": {
          "duration": 0.030494,
          "end_time": "2023-05-19T06:47:35.340891",
          "exception": false,
          "start_time": "2023-05-19T06:47:35.310397",
          "status": "completed"
        },
        "tags": [],
        "colab": {
          "base_uri": "https://localhost:8080/"
        },
        "id": "5aa7206c",
        "outputId": "4142d1aa-9d48-4851-c388-5bd243b53027"
      },
      "outputs": [
        {
          "output_type": "execute_result",
          "data": {
            "text/plain": [
              "Gender               0\n",
              "Ever_Married       140\n",
              "Age                  0\n",
              "Graduated           78\n",
              "Profession         124\n",
              "Work_Experience    829\n",
              "Spending_Score       0\n",
              "Family_Size        335\n",
              "Var_1               76\n",
              "Segmentation         0\n",
              "dtype: int64"
            ]
          },
          "metadata": {},
          "execution_count": 4
        }
      ],
      "source": [
        "#Need to check if there are any null values present in dataset\n",
        "df.isna().sum()"
      ]
    },
    {
      "cell_type": "code",
      "execution_count": null,
      "id": "7db89011",
      "metadata": {
        "execution": {
          "iopub.execute_input": "2023-05-19T06:47:35.361994Z",
          "iopub.status.busy": "2023-05-19T06:47:35.361622Z",
          "iopub.status.idle": "2023-05-19T06:47:35.390005Z",
          "shell.execute_reply": "2023-05-19T06:47:35.388804Z"
        },
        "papermill": {
          "duration": 0.041923,
          "end_time": "2023-05-19T06:47:35.392269",
          "exception": false,
          "start_time": "2023-05-19T06:47:35.350346",
          "status": "completed"
        },
        "tags": [],
        "id": "7db89011"
      },
      "outputs": [],
      "source": [
        "from sklearn.impute import SimpleImputer\n",
        "imp=SimpleImputer(strategy='most_frequent')\n",
        "list=['Ever_Married','Graduated','Profession','Var_1']\n",
        "\n",
        "for i in list:\n",
        "    df[i]=imp.fit_transform(df[i].values.reshape(-1,1))\n"
      ]
    },
    {
      "cell_type": "code",
      "execution_count": null,
      "id": "9404f985",
      "metadata": {
        "execution": {
          "iopub.execute_input": "2023-05-19T06:47:35.412740Z",
          "iopub.status.busy": "2023-05-19T06:47:35.412382Z",
          "iopub.status.idle": "2023-05-19T06:47:35.428855Z",
          "shell.execute_reply": "2023-05-19T06:47:35.427777Z"
        },
        "papermill": {
          "duration": 0.029185,
          "end_time": "2023-05-19T06:47:35.430895",
          "exception": false,
          "start_time": "2023-05-19T06:47:35.401710",
          "status": "completed"
        },
        "tags": [],
        "colab": {
          "base_uri": "https://localhost:8080/"
        },
        "id": "9404f985",
        "outputId": "2f145589-24ec-42d8-cf34-dc161e5c4d1f"
      },
      "outputs": [
        {
          "output_type": "execute_result",
          "data": {
            "text/plain": [
              "Gender               0\n",
              "Ever_Married         0\n",
              "Age                  0\n",
              "Graduated            0\n",
              "Profession           0\n",
              "Work_Experience    829\n",
              "Spending_Score       0\n",
              "Family_Size        335\n",
              "Var_1                0\n",
              "Segmentation         0\n",
              "dtype: int64"
            ]
          },
          "metadata": {},
          "execution_count": 6
        }
      ],
      "source": [
        "df.isna().sum()"
      ]
    },
    {
      "cell_type": "code",
      "execution_count": null,
      "id": "b4fd7f75",
      "metadata": {
        "execution": {
          "iopub.execute_input": "2023-05-19T06:47:35.451395Z",
          "iopub.status.busy": "2023-05-19T06:47:35.451073Z",
          "iopub.status.idle": "2023-05-19T06:47:35.460041Z",
          "shell.execute_reply": "2023-05-19T06:47:35.458758Z"
        },
        "papermill": {
          "duration": 0.022169,
          "end_time": "2023-05-19T06:47:35.462516",
          "exception": false,
          "start_time": "2023-05-19T06:47:35.440347",
          "status": "completed"
        },
        "tags": [],
        "id": "b4fd7f75"
      },
      "outputs": [],
      "source": [
        "#Insert the missing values with mean value\n",
        "from sklearn.impute import SimpleImputer\n",
        "imp=SimpleImputer(missing_values=np.NaN,strategy='mean')\n",
        "list=['Work_Experience','Family_Size']\n",
        "\n",
        "for i in list:\n",
        "    df[i]=imp.fit_transform(df[i].values.reshape(-1,1))\n",
        "\n"
      ]
    },
    {
      "cell_type": "code",
      "execution_count": null,
      "id": "9004333c",
      "metadata": {
        "execution": {
          "iopub.execute_input": "2023-05-19T06:47:35.483076Z",
          "iopub.status.busy": "2023-05-19T06:47:35.482336Z",
          "iopub.status.idle": "2023-05-19T06:47:35.498884Z",
          "shell.execute_reply": "2023-05-19T06:47:35.497945Z"
        },
        "papermill": {
          "duration": 0.02891,
          "end_time": "2023-05-19T06:47:35.500781",
          "exception": false,
          "start_time": "2023-05-19T06:47:35.471871",
          "status": "completed"
        },
        "tags": [],
        "colab": {
          "base_uri": "https://localhost:8080/"
        },
        "id": "9004333c",
        "outputId": "dbf61482-d1fc-4060-97f5-1a6497dd1d42"
      },
      "outputs": [
        {
          "output_type": "execute_result",
          "data": {
            "text/plain": [
              "Gender             0\n",
              "Ever_Married       0\n",
              "Age                0\n",
              "Graduated          0\n",
              "Profession         0\n",
              "Work_Experience    0\n",
              "Spending_Score     0\n",
              "Family_Size        0\n",
              "Var_1              0\n",
              "Segmentation       0\n",
              "dtype: int64"
            ]
          },
          "metadata": {},
          "execution_count": 8
        }
      ],
      "source": [
        "df.isna().sum()"
      ]
    },
    {
      "cell_type": "code",
      "execution_count": null,
      "id": "a9f9dbd7",
      "metadata": {
        "execution": {
          "iopub.execute_input": "2023-05-19T06:47:35.522310Z",
          "iopub.status.busy": "2023-05-19T06:47:35.521811Z",
          "iopub.status.idle": "2023-05-19T06:47:35.528576Z",
          "shell.execute_reply": "2023-05-19T06:47:35.527771Z"
        },
        "papermill": {
          "duration": 0.019816,
          "end_time": "2023-05-19T06:47:35.530416",
          "exception": false,
          "start_time": "2023-05-19T06:47:35.510600",
          "status": "completed"
        },
        "tags": [],
        "colab": {
          "base_uri": "https://localhost:8080/"
        },
        "id": "a9f9dbd7",
        "outputId": "053ebce2-d640-42ae-f9d1-e97ff5d62f97"
      },
      "outputs": [
        {
          "output_type": "execute_result",
          "data": {
            "text/plain": [
              "Gender              object\n",
              "Ever_Married        object\n",
              "Age                  int64\n",
              "Graduated           object\n",
              "Profession          object\n",
              "Work_Experience    float64\n",
              "Spending_Score      object\n",
              "Family_Size        float64\n",
              "Var_1               object\n",
              "Segmentation        object\n",
              "dtype: object"
            ]
          },
          "metadata": {},
          "execution_count": 9
        }
      ],
      "source": [
        "df.dtypes"
      ]
    },
    {
      "cell_type": "code",
      "execution_count": null,
      "id": "afdf6b7b",
      "metadata": {
        "execution": {
          "iopub.execute_input": "2023-05-19T06:47:35.551281Z",
          "iopub.status.busy": "2023-05-19T06:47:35.550978Z",
          "iopub.status.idle": "2023-05-19T06:47:35.558237Z",
          "shell.execute_reply": "2023-05-19T06:47:35.557495Z"
        },
        "papermill": {
          "duration": 0.019865,
          "end_time": "2023-05-19T06:47:35.560002",
          "exception": false,
          "start_time": "2023-05-19T06:47:35.540137",
          "status": "completed"
        },
        "tags": [],
        "colab": {
          "base_uri": "https://localhost:8080/"
        },
        "id": "afdf6b7b",
        "outputId": "89780908-88bd-4a58-e96d-bdf7f65272b9"
      },
      "outputs": [
        {
          "output_type": "execute_result",
          "data": {
            "text/plain": [
              "Index(['Gender', 'Ever_Married', 'Graduated', 'Profession', 'Spending_Score',\n",
              "       'Var_1', 'Segmentation'],\n",
              "      dtype='object')"
            ]
          },
          "metadata": {},
          "execution_count": 10
        }
      ],
      "source": [
        "#select the columns with datatypes as object\n",
        "df.select_dtypes(include='object').columns"
      ]
    },
    {
      "cell_type": "code",
      "execution_count": null,
      "id": "eb77d3c5",
      "metadata": {
        "execution": {
          "iopub.execute_input": "2023-05-19T06:47:35.582140Z",
          "iopub.status.busy": "2023-05-19T06:47:35.580997Z",
          "iopub.status.idle": "2023-05-19T06:47:35.601341Z",
          "shell.execute_reply": "2023-05-19T06:47:35.599959Z"
        },
        "papermill": {
          "duration": 0.033811,
          "end_time": "2023-05-19T06:47:35.603849",
          "exception": false,
          "start_time": "2023-05-19T06:47:35.570038",
          "status": "completed"
        },
        "tags": [],
        "id": "eb77d3c5"
      },
      "outputs": [],
      "source": [
        "#the categorical data columns are converted into numerical values by using preprocessing technique as Label Encoder\n",
        "\n",
        "from sklearn.preprocessing import LabelEncoder\n",
        "le=LabelEncoder()\n",
        "list=['Gender', 'Ever_Married', 'Graduated', 'Profession', 'Spending_Score',\n",
        "       'Var_1', 'Segmentation']\n",
        "for i in list:\n",
        "    df[i]=le.fit_transform(df[i])\n",
        "\n"
      ]
    },
    {
      "cell_type": "code",
      "execution_count": null,
      "id": "57688e6b",
      "metadata": {
        "execution": {
          "iopub.execute_input": "2023-05-19T06:47:35.626188Z",
          "iopub.status.busy": "2023-05-19T06:47:35.625845Z",
          "iopub.status.idle": "2023-05-19T06:47:35.640439Z",
          "shell.execute_reply": "2023-05-19T06:47:35.639793Z"
        },
        "papermill": {
          "duration": 0.027936,
          "end_time": "2023-05-19T06:47:35.642152",
          "exception": false,
          "start_time": "2023-05-19T06:47:35.614216",
          "status": "completed"
        },
        "tags": [],
        "colab": {
          "base_uri": "https://localhost:8080/",
          "height": 455
        },
        "id": "57688e6b",
        "outputId": "d0d3a92c-81b2-4bdb-f4f2-d414336aa1bd"
      },
      "outputs": [
        {
          "output_type": "execute_result",
          "data": {
            "text/plain": [
              "        Gender  Ever_Married  Age  Graduated  Profession  Work_Experience  \\\n",
              "ID                                                                          \n",
              "462809       1             0   22          0           5         1.000000   \n",
              "462643       0             1   38          1           2         2.641663   \n",
              "466315       0             1   67          1           2         1.000000   \n",
              "461735       1             1   67          1           7         0.000000   \n",
              "462669       0             1   40          1           3         2.641663   \n",
              "...        ...           ...  ...        ...         ...              ...   \n",
              "464018       1             0   22          0           0         0.000000   \n",
              "464685       1             0   35          0           4         3.000000   \n",
              "465406       0             0   33          1           5         1.000000   \n",
              "467299       0             0   27          1           5         1.000000   \n",
              "461879       1             1   37          1           4         0.000000   \n",
              "\n",
              "        Spending_Score  Family_Size  Var_1  Segmentation  \n",
              "ID                                                        \n",
              "462809               2          4.0      3             3  \n",
              "462643               0          3.0      3             0  \n",
              "466315               2          1.0      5             1  \n",
              "461735               1          2.0      5             1  \n",
              "462669               1          6.0      5             0  \n",
              "...                ...          ...    ...           ...  \n",
              "464018               2          7.0      0             3  \n",
              "464685               2          4.0      3             3  \n",
              "465406               2          1.0      5             3  \n",
              "467299               2          4.0      5             1  \n",
              "461879               0          3.0      3             1  \n",
              "\n",
              "[8068 rows x 10 columns]"
            ],
            "text/html": [
              "\n",
              "  <div id=\"df-776f7984-3ca8-4515-ab24-b966d8e66fe7\" class=\"colab-df-container\">\n",
              "    <div>\n",
              "<style scoped>\n",
              "    .dataframe tbody tr th:only-of-type {\n",
              "        vertical-align: middle;\n",
              "    }\n",
              "\n",
              "    .dataframe tbody tr th {\n",
              "        vertical-align: top;\n",
              "    }\n",
              "\n",
              "    .dataframe thead th {\n",
              "        text-align: right;\n",
              "    }\n",
              "</style>\n",
              "<table border=\"1\" class=\"dataframe\">\n",
              "  <thead>\n",
              "    <tr style=\"text-align: right;\">\n",
              "      <th></th>\n",
              "      <th>Gender</th>\n",
              "      <th>Ever_Married</th>\n",
              "      <th>Age</th>\n",
              "      <th>Graduated</th>\n",
              "      <th>Profession</th>\n",
              "      <th>Work_Experience</th>\n",
              "      <th>Spending_Score</th>\n",
              "      <th>Family_Size</th>\n",
              "      <th>Var_1</th>\n",
              "      <th>Segmentation</th>\n",
              "    </tr>\n",
              "    <tr>\n",
              "      <th>ID</th>\n",
              "      <th></th>\n",
              "      <th></th>\n",
              "      <th></th>\n",
              "      <th></th>\n",
              "      <th></th>\n",
              "      <th></th>\n",
              "      <th></th>\n",
              "      <th></th>\n",
              "      <th></th>\n",
              "      <th></th>\n",
              "    </tr>\n",
              "  </thead>\n",
              "  <tbody>\n",
              "    <tr>\n",
              "      <th>462809</th>\n",
              "      <td>1</td>\n",
              "      <td>0</td>\n",
              "      <td>22</td>\n",
              "      <td>0</td>\n",
              "      <td>5</td>\n",
              "      <td>1.000000</td>\n",
              "      <td>2</td>\n",
              "      <td>4.0</td>\n",
              "      <td>3</td>\n",
              "      <td>3</td>\n",
              "    </tr>\n",
              "    <tr>\n",
              "      <th>462643</th>\n",
              "      <td>0</td>\n",
              "      <td>1</td>\n",
              "      <td>38</td>\n",
              "      <td>1</td>\n",
              "      <td>2</td>\n",
              "      <td>2.641663</td>\n",
              "      <td>0</td>\n",
              "      <td>3.0</td>\n",
              "      <td>3</td>\n",
              "      <td>0</td>\n",
              "    </tr>\n",
              "    <tr>\n",
              "      <th>466315</th>\n",
              "      <td>0</td>\n",
              "      <td>1</td>\n",
              "      <td>67</td>\n",
              "      <td>1</td>\n",
              "      <td>2</td>\n",
              "      <td>1.000000</td>\n",
              "      <td>2</td>\n",
              "      <td>1.0</td>\n",
              "      <td>5</td>\n",
              "      <td>1</td>\n",
              "    </tr>\n",
              "    <tr>\n",
              "      <th>461735</th>\n",
              "      <td>1</td>\n",
              "      <td>1</td>\n",
              "      <td>67</td>\n",
              "      <td>1</td>\n",
              "      <td>7</td>\n",
              "      <td>0.000000</td>\n",
              "      <td>1</td>\n",
              "      <td>2.0</td>\n",
              "      <td>5</td>\n",
              "      <td>1</td>\n",
              "    </tr>\n",
              "    <tr>\n",
              "      <th>462669</th>\n",
              "      <td>0</td>\n",
              "      <td>1</td>\n",
              "      <td>40</td>\n",
              "      <td>1</td>\n",
              "      <td>3</td>\n",
              "      <td>2.641663</td>\n",
              "      <td>1</td>\n",
              "      <td>6.0</td>\n",
              "      <td>5</td>\n",
              "      <td>0</td>\n",
              "    </tr>\n",
              "    <tr>\n",
              "      <th>...</th>\n",
              "      <td>...</td>\n",
              "      <td>...</td>\n",
              "      <td>...</td>\n",
              "      <td>...</td>\n",
              "      <td>...</td>\n",
              "      <td>...</td>\n",
              "      <td>...</td>\n",
              "      <td>...</td>\n",
              "      <td>...</td>\n",
              "      <td>...</td>\n",
              "    </tr>\n",
              "    <tr>\n",
              "      <th>464018</th>\n",
              "      <td>1</td>\n",
              "      <td>0</td>\n",
              "      <td>22</td>\n",
              "      <td>0</td>\n",
              "      <td>0</td>\n",
              "      <td>0.000000</td>\n",
              "      <td>2</td>\n",
              "      <td>7.0</td>\n",
              "      <td>0</td>\n",
              "      <td>3</td>\n",
              "    </tr>\n",
              "    <tr>\n",
              "      <th>464685</th>\n",
              "      <td>1</td>\n",
              "      <td>0</td>\n",
              "      <td>35</td>\n",
              "      <td>0</td>\n",
              "      <td>4</td>\n",
              "      <td>3.000000</td>\n",
              "      <td>2</td>\n",
              "      <td>4.0</td>\n",
              "      <td>3</td>\n",
              "      <td>3</td>\n",
              "    </tr>\n",
              "    <tr>\n",
              "      <th>465406</th>\n",
              "      <td>0</td>\n",
              "      <td>0</td>\n",
              "      <td>33</td>\n",
              "      <td>1</td>\n",
              "      <td>5</td>\n",
              "      <td>1.000000</td>\n",
              "      <td>2</td>\n",
              "      <td>1.0</td>\n",
              "      <td>5</td>\n",
              "      <td>3</td>\n",
              "    </tr>\n",
              "    <tr>\n",
              "      <th>467299</th>\n",
              "      <td>0</td>\n",
              "      <td>0</td>\n",
              "      <td>27</td>\n",
              "      <td>1</td>\n",
              "      <td>5</td>\n",
              "      <td>1.000000</td>\n",
              "      <td>2</td>\n",
              "      <td>4.0</td>\n",
              "      <td>5</td>\n",
              "      <td>1</td>\n",
              "    </tr>\n",
              "    <tr>\n",
              "      <th>461879</th>\n",
              "      <td>1</td>\n",
              "      <td>1</td>\n",
              "      <td>37</td>\n",
              "      <td>1</td>\n",
              "      <td>4</td>\n",
              "      <td>0.000000</td>\n",
              "      <td>0</td>\n",
              "      <td>3.0</td>\n",
              "      <td>3</td>\n",
              "      <td>1</td>\n",
              "    </tr>\n",
              "  </tbody>\n",
              "</table>\n",
              "<p>8068 rows × 10 columns</p>\n",
              "</div>\n",
              "    <div class=\"colab-df-buttons\">\n",
              "\n",
              "  <div class=\"colab-df-container\">\n",
              "    <button class=\"colab-df-convert\" onclick=\"convertToInteractive('df-776f7984-3ca8-4515-ab24-b966d8e66fe7')\"\n",
              "            title=\"Convert this dataframe to an interactive table.\"\n",
              "            style=\"display:none;\">\n",
              "\n",
              "  <svg xmlns=\"http://www.w3.org/2000/svg\" height=\"24px\" viewBox=\"0 -960 960 960\">\n",
              "    <path d=\"M120-120v-720h720v720H120Zm60-500h600v-160H180v160Zm220 220h160v-160H400v160Zm0 220h160v-160H400v160ZM180-400h160v-160H180v160Zm440 0h160v-160H620v160ZM180-180h160v-160H180v160Zm440 0h160v-160H620v160Z\"/>\n",
              "  </svg>\n",
              "    </button>\n",
              "\n",
              "  <style>\n",
              "    .colab-df-container {\n",
              "      display:flex;\n",
              "      gap: 12px;\n",
              "    }\n",
              "\n",
              "    .colab-df-convert {\n",
              "      background-color: #E8F0FE;\n",
              "      border: none;\n",
              "      border-radius: 50%;\n",
              "      cursor: pointer;\n",
              "      display: none;\n",
              "      fill: #1967D2;\n",
              "      height: 32px;\n",
              "      padding: 0 0 0 0;\n",
              "      width: 32px;\n",
              "    }\n",
              "\n",
              "    .colab-df-convert:hover {\n",
              "      background-color: #E2EBFA;\n",
              "      box-shadow: 0px 1px 2px rgba(60, 64, 67, 0.3), 0px 1px 3px 1px rgba(60, 64, 67, 0.15);\n",
              "      fill: #174EA6;\n",
              "    }\n",
              "\n",
              "    .colab-df-buttons div {\n",
              "      margin-bottom: 4px;\n",
              "    }\n",
              "\n",
              "    [theme=dark] .colab-df-convert {\n",
              "      background-color: #3B4455;\n",
              "      fill: #D2E3FC;\n",
              "    }\n",
              "\n",
              "    [theme=dark] .colab-df-convert:hover {\n",
              "      background-color: #434B5C;\n",
              "      box-shadow: 0px 1px 3px 1px rgba(0, 0, 0, 0.15);\n",
              "      filter: drop-shadow(0px 1px 2px rgba(0, 0, 0, 0.3));\n",
              "      fill: #FFFFFF;\n",
              "    }\n",
              "  </style>\n",
              "\n",
              "    <script>\n",
              "      const buttonEl =\n",
              "        document.querySelector('#df-776f7984-3ca8-4515-ab24-b966d8e66fe7 button.colab-df-convert');\n",
              "      buttonEl.style.display =\n",
              "        google.colab.kernel.accessAllowed ? 'block' : 'none';\n",
              "\n",
              "      async function convertToInteractive(key) {\n",
              "        const element = document.querySelector('#df-776f7984-3ca8-4515-ab24-b966d8e66fe7');\n",
              "        const dataTable =\n",
              "          await google.colab.kernel.invokeFunction('convertToInteractive',\n",
              "                                                    [key], {});\n",
              "        if (!dataTable) return;\n",
              "\n",
              "        const docLinkHtml = 'Like what you see? Visit the ' +\n",
              "          '<a target=\"_blank\" href=https://colab.research.google.com/notebooks/data_table.ipynb>data table notebook</a>'\n",
              "          + ' to learn more about interactive tables.';\n",
              "        element.innerHTML = '';\n",
              "        dataTable['output_type'] = 'display_data';\n",
              "        await google.colab.output.renderOutput(dataTable, element);\n",
              "        const docLink = document.createElement('div');\n",
              "        docLink.innerHTML = docLinkHtml;\n",
              "        element.appendChild(docLink);\n",
              "      }\n",
              "    </script>\n",
              "  </div>\n",
              "\n",
              "\n",
              "<div id=\"df-af96c84e-0796-4920-9fd1-713ba4546de6\">\n",
              "  <button class=\"colab-df-quickchart\" onclick=\"quickchart('df-af96c84e-0796-4920-9fd1-713ba4546de6')\"\n",
              "            title=\"Suggest charts.\"\n",
              "            style=\"display:none;\">\n",
              "\n",
              "<svg xmlns=\"http://www.w3.org/2000/svg\" height=\"24px\"viewBox=\"0 0 24 24\"\n",
              "     width=\"24px\">\n",
              "    <g>\n",
              "        <path d=\"M19 3H5c-1.1 0-2 .9-2 2v14c0 1.1.9 2 2 2h14c1.1 0 2-.9 2-2V5c0-1.1-.9-2-2-2zM9 17H7v-7h2v7zm4 0h-2V7h2v10zm4 0h-2v-4h2v4z\"/>\n",
              "    </g>\n",
              "</svg>\n",
              "  </button>\n",
              "\n",
              "<style>\n",
              "  .colab-df-quickchart {\n",
              "      --bg-color: #E8F0FE;\n",
              "      --fill-color: #1967D2;\n",
              "      --hover-bg-color: #E2EBFA;\n",
              "      --hover-fill-color: #174EA6;\n",
              "      --disabled-fill-color: #AAA;\n",
              "      --disabled-bg-color: #DDD;\n",
              "  }\n",
              "\n",
              "  [theme=dark] .colab-df-quickchart {\n",
              "      --bg-color: #3B4455;\n",
              "      --fill-color: #D2E3FC;\n",
              "      --hover-bg-color: #434B5C;\n",
              "      --hover-fill-color: #FFFFFF;\n",
              "      --disabled-bg-color: #3B4455;\n",
              "      --disabled-fill-color: #666;\n",
              "  }\n",
              "\n",
              "  .colab-df-quickchart {\n",
              "    background-color: var(--bg-color);\n",
              "    border: none;\n",
              "    border-radius: 50%;\n",
              "    cursor: pointer;\n",
              "    display: none;\n",
              "    fill: var(--fill-color);\n",
              "    height: 32px;\n",
              "    padding: 0;\n",
              "    width: 32px;\n",
              "  }\n",
              "\n",
              "  .colab-df-quickchart:hover {\n",
              "    background-color: var(--hover-bg-color);\n",
              "    box-shadow: 0 1px 2px rgba(60, 64, 67, 0.3), 0 1px 3px 1px rgba(60, 64, 67, 0.15);\n",
              "    fill: var(--button-hover-fill-color);\n",
              "  }\n",
              "\n",
              "  .colab-df-quickchart-complete:disabled,\n",
              "  .colab-df-quickchart-complete:disabled:hover {\n",
              "    background-color: var(--disabled-bg-color);\n",
              "    fill: var(--disabled-fill-color);\n",
              "    box-shadow: none;\n",
              "  }\n",
              "\n",
              "  .colab-df-spinner {\n",
              "    border: 2px solid var(--fill-color);\n",
              "    border-color: transparent;\n",
              "    border-bottom-color: var(--fill-color);\n",
              "    animation:\n",
              "      spin 1s steps(1) infinite;\n",
              "  }\n",
              "\n",
              "  @keyframes spin {\n",
              "    0% {\n",
              "      border-color: transparent;\n",
              "      border-bottom-color: var(--fill-color);\n",
              "      border-left-color: var(--fill-color);\n",
              "    }\n",
              "    20% {\n",
              "      border-color: transparent;\n",
              "      border-left-color: var(--fill-color);\n",
              "      border-top-color: var(--fill-color);\n",
              "    }\n",
              "    30% {\n",
              "      border-color: transparent;\n",
              "      border-left-color: var(--fill-color);\n",
              "      border-top-color: var(--fill-color);\n",
              "      border-right-color: var(--fill-color);\n",
              "    }\n",
              "    40% {\n",
              "      border-color: transparent;\n",
              "      border-right-color: var(--fill-color);\n",
              "      border-top-color: var(--fill-color);\n",
              "    }\n",
              "    60% {\n",
              "      border-color: transparent;\n",
              "      border-right-color: var(--fill-color);\n",
              "    }\n",
              "    80% {\n",
              "      border-color: transparent;\n",
              "      border-right-color: var(--fill-color);\n",
              "      border-bottom-color: var(--fill-color);\n",
              "    }\n",
              "    90% {\n",
              "      border-color: transparent;\n",
              "      border-bottom-color: var(--fill-color);\n",
              "    }\n",
              "  }\n",
              "</style>\n",
              "\n",
              "  <script>\n",
              "    async function quickchart(key) {\n",
              "      const quickchartButtonEl =\n",
              "        document.querySelector('#' + key + ' button');\n",
              "      quickchartButtonEl.disabled = true;  // To prevent multiple clicks.\n",
              "      quickchartButtonEl.classList.add('colab-df-spinner');\n",
              "      try {\n",
              "        const charts = await google.colab.kernel.invokeFunction(\n",
              "            'suggestCharts', [key], {});\n",
              "      } catch (error) {\n",
              "        console.error('Error during call to suggestCharts:', error);\n",
              "      }\n",
              "      quickchartButtonEl.classList.remove('colab-df-spinner');\n",
              "      quickchartButtonEl.classList.add('colab-df-quickchart-complete');\n",
              "    }\n",
              "    (() => {\n",
              "      let quickchartButtonEl =\n",
              "        document.querySelector('#df-af96c84e-0796-4920-9fd1-713ba4546de6 button');\n",
              "      quickchartButtonEl.style.display =\n",
              "        google.colab.kernel.accessAllowed ? 'block' : 'none';\n",
              "    })();\n",
              "  </script>\n",
              "</div>\n",
              "    </div>\n",
              "  </div>\n"
            ]
          },
          "metadata": {},
          "execution_count": 12
        }
      ],
      "source": [
        "#As checked now the categorical values are being transformed into numerical values\n",
        "df"
      ]
    },
    {
      "cell_type": "code",
      "execution_count": null,
      "id": "eb58fc88",
      "metadata": {
        "execution": {
          "iopub.execute_input": "2023-05-19T06:47:35.664293Z",
          "iopub.status.busy": "2023-05-19T06:47:35.663780Z",
          "iopub.status.idle": "2023-05-19T06:47:35.671827Z",
          "shell.execute_reply": "2023-05-19T06:47:35.670836Z"
        },
        "papermill": {
          "duration": 0.022012,
          "end_time": "2023-05-19T06:47:35.674242",
          "exception": false,
          "start_time": "2023-05-19T06:47:35.652230",
          "status": "completed"
        },
        "tags": [],
        "colab": {
          "base_uri": "https://localhost:8080/"
        },
        "id": "eb58fc88",
        "outputId": "7b4aa239-37f3-4244-dabd-9a9c1427ea11"
      },
      "outputs": [
        {
          "output_type": "execute_result",
          "data": {
            "text/plain": [
              "Gender            -0.190783\n",
              "Ever_Married      -0.377985\n",
              "Age                0.696021\n",
              "Graduated         -0.518406\n",
              "Profession         0.426630\n",
              "Work_Experience    1.378963\n",
              "Spending_Score    -0.759843\n",
              "Family_Size        1.032458\n",
              "Var_1             -1.207196\n",
              "Segmentation      -0.078432\n",
              "dtype: float64"
            ]
          },
          "metadata": {},
          "execution_count": 13
        }
      ],
      "source": [
        "#check skewness of the data\n",
        "df.skew()"
      ]
    },
    {
      "cell_type": "code",
      "execution_count": null,
      "id": "bff9ff93",
      "metadata": {
        "execution": {
          "iopub.execute_input": "2023-05-19T06:47:35.697559Z",
          "iopub.status.busy": "2023-05-19T06:47:35.696974Z",
          "iopub.status.idle": "2023-05-19T06:47:36.729251Z",
          "shell.execute_reply": "2023-05-19T06:47:36.727497Z"
        },
        "papermill": {
          "duration": 1.047218,
          "end_time": "2023-05-19T06:47:36.732214",
          "exception": false,
          "start_time": "2023-05-19T06:47:35.684996",
          "status": "completed"
        },
        "tags": [],
        "colab": {
          "base_uri": "https://localhost:8080/",
          "height": 1000
        },
        "id": "bff9ff93",
        "outputId": "f2cb69ac-a5fa-429f-9438-d716c27faf48"
      },
      "outputs": [
        {
          "output_type": "execute_result",
          "data": {
            "text/plain": [
              "Gender                Axes(0.125,0.653529;0.168478x0.226471)\n",
              "Ever_Married       Axes(0.327174,0.653529;0.168478x0.226471)\n",
              "Age                Axes(0.529348,0.653529;0.168478x0.226471)\n",
              "Graduated          Axes(0.731522,0.653529;0.168478x0.226471)\n",
              "Profession            Axes(0.125,0.381765;0.168478x0.226471)\n",
              "Work_Experience    Axes(0.327174,0.381765;0.168478x0.226471)\n",
              "Spending_Score     Axes(0.529348,0.381765;0.168478x0.226471)\n",
              "Family_Size        Axes(0.731522,0.381765;0.168478x0.226471)\n",
              "Var_1                     Axes(0.125,0.11;0.168478x0.226471)\n",
              "Segmentation           Axes(0.327174,0.11;0.168478x0.226471)\n",
              "dtype: object"
            ]
          },
          "metadata": {},
          "execution_count": 14
        },
        {
          "output_type": "display_data",
          "data": {
            "text/plain": [
              "<Figure size 1000x1000 with 12 Axes>"
            ],
            "image/png": "[encoded data removed]"
          },
          "metadata": {}
        }
      ],
      "source": [
        "#Check if the outliers are present in dataset using box plot\n",
        "\n",
        "df.plot(kind='box',subplots=True,layout=(3,4),figsize=(10,10))"
      ]
    },
    {
      "cell_type": "code",
      "execution_count": null,
      "id": "4caa3c87",
      "metadata": {
        "execution": {
          "iopub.execute_input": "2023-05-19T06:47:36.755536Z",
          "iopub.status.busy": "2023-05-19T06:47:36.755183Z",
          "iopub.status.idle": "2023-05-19T06:47:39.020403Z",
          "shell.execute_reply": "2023-05-19T06:47:39.018582Z"
        },
        "papermill": {
          "duration": 2.279881,
          "end_time": "2023-05-19T06:47:39.023031",
          "exception": false,
          "start_time": "2023-05-19T06:47:36.743150",
          "status": "completed"
        },
        "tags": [],
        "colab": {
          "base_uri": "https://localhost:8080/",
          "height": 1000
        },
        "id": "4caa3c87",
        "outputId": "85045b27-057e-465d-9642-e391548f72be"
      },
      "outputs": [
        {
          "output_type": "display_data",
          "data": {
            "text/plain": [
              "<Figure size 640x480 with 1 Axes>"
            ],
            "image/png": "[encoded data removed]"
          },
          "metadata": {}
        },
        {
          "output_type": "display_data",
          "data": {
            "text/plain": [
              "<Figure size 640x480 with 1 Axes>"
            ],
            "image/png": "[encoded data removed]"
          },
          "metadata": {}
        },
        {
          "output_type": "display_data",
          "data": {
            "text/plain": [
              "<Figure size 640x480 with 1 Axes>"
            ],
            "image/png": "[encoded data removed]"
          },
          "metadata": {}
        },
        {
          "output_type": "display_data",
          "data": {
            "text/plain": [
              "<Figure size 640x480 with 1 Axes>"
            ],
            "image/png": "[encoded data removed]"
          },
          "metadata": {}
        },
        {
          "output_type": "display_data",
          "data": {
            "text/plain": [
              "<Figure size 640x480 with 1 Axes>"
            ],
            "image/png": "[encoded data removed]"
          },
          "metadata": {}
        },
        {
          "output_type": "display_data",
          "data": {
            "text/plain": [
              "<Figure size 640x480 with 1 Axes>"
            ],
            "image/png": "[encoded data removed]"
          },
          "metadata": {}
        },
        {
          "output_type": "display_data",
          "data": {
            "text/plain": [
              "<Figure size 640x480 with 1 Axes>"
            ],
            "image/png": "[encoded data removed]"
          },
          "metadata": {}
        },
        {
          "output_type": "display_data",
          "data": {
            "text/plain": [
              "<Figure size 640x480 with 1 Axes>"
            ],
            "image/png": "[encoded data removed]"
          },
          "metadata": {}
        },
        {
          "output_type": "display_data",
          "data": {
            "text/plain": [
              "<Figure size 640x480 with 1 Axes>"
            ],
            "image/png": "[encoded data removed]"
          },
          "metadata": {}
        },
        {
          "output_type": "display_data",
          "data": {
            "text/plain": [
              "<Figure size 640x480 with 1 Axes>"
            ],
            "image/png": "[encoded data removed]"
          },
          "metadata": {}
        }
      ],
      "source": [
        "for i in df.columns:\n",
        "    plt.figure()\n",
        "    sns.scatterplot(x=df[i],y='Segmentation',data=df)"
      ]
    },
    {
      "cell_type": "code",
      "execution_count": null,
      "id": "670eafcb",
      "metadata": {
        "execution": {
          "iopub.execute_input": "2023-05-19T06:47:39.052110Z",
          "iopub.status.busy": "2023-05-19T06:47:39.051762Z",
          "iopub.status.idle": "2023-05-19T06:47:39.076277Z",
          "shell.execute_reply": "2023-05-19T06:47:39.074979Z"
        },
        "papermill": {
          "duration": 0.041816,
          "end_time": "2023-05-19T06:47:39.078699",
          "exception": false,
          "start_time": "2023-05-19T06:47:39.036883",
          "status": "completed"
        },
        "tags": [],
        "colab": {
          "base_uri": "https://localhost:8080/",
          "height": 455
        },
        "id": "670eafcb",
        "outputId": "9c84fd13-b301-4c1a-ec6a-85e25f604052"
      },
      "outputs": [
        {
          "output_type": "execute_result",
          "data": {
            "text/plain": [
              "        Gender  Ever_Married  Age  Graduated  Profession  Work_Experience  \\\n",
              "ID                                                                          \n",
              "462809       1             0   22          0           5         1.000000   \n",
              "462643       0             1   38          1           2         2.641663   \n",
              "466315       0             1   67          1           2         1.000000   \n",
              "461735       1             1   67          1           7         0.000000   \n",
              "462669       0             1   40          1           3         2.641663   \n",
              "...        ...           ...  ...        ...         ...              ...   \n",
              "464018       1             0   22          0           0         0.000000   \n",
              "464685       1             0   35          0           4         3.000000   \n",
              "465406       0             0   33          1           5         1.000000   \n",
              "467299       0             0   27          1           5         1.000000   \n",
              "461879       1             1   37          1           4         0.000000   \n",
              "\n",
              "        Spending_Score  Family_Size  Var_1  Segmentation  \n",
              "ID                                                        \n",
              "462809               2          4.0      3             3  \n",
              "462643               0          3.0      3             0  \n",
              "466315               2          1.0      5             1  \n",
              "461735               1          2.0      5             1  \n",
              "462669               1          6.0      5             0  \n",
              "...                ...          ...    ...           ...  \n",
              "464018               2          7.0      0             3  \n",
              "464685               2          4.0      3             3  \n",
              "465406               2          1.0      5             3  \n",
              "467299               2          4.0      5             1  \n",
              "461879               0          3.0      3             1  \n",
              "\n",
              "[8068 rows x 10 columns]"
            ],
            "text/html": [
              "\n",
              "  <div id=\"df-122085a8-0de3-410b-94a2-d6c3b7c4b7e0\" class=\"colab-df-container\">\n",
              "    <div>\n",
              "<style scoped>\n",
              "    .dataframe tbody tr th:only-of-type {\n",
              "        vertical-align: middle;\n",
              "    }\n",
              "\n",
              "    .dataframe tbody tr th {\n",
              "        vertical-align: top;\n",
              "    }\n",
              "\n",
              "    .dataframe thead th {\n",
              "        text-align: right;\n",
              "    }\n",
              "</style>\n",
              "<table border=\"1\" class=\"dataframe\">\n",
              "  <thead>\n",
              "    <tr style=\"text-align: right;\">\n",
              "      <th></th>\n",
              "      <th>Gender</th>\n",
              "      <th>Ever_Married</th>\n",
              "      <th>Age</th>\n",
              "      <th>Graduated</th>\n",
              "      <th>Profession</th>\n",
              "      <th>Work_Experience</th>\n",
              "      <th>Spending_Score</th>\n",
              "      <th>Family_Size</th>\n",
              "      <th>Var_1</th>\n",
              "      <th>Segmentation</th>\n",
              "    </tr>\n",
              "    <tr>\n",
              "      <th>ID</th>\n",
              "      <th></th>\n",
              "      <th></th>\n",
              "      <th></th>\n",
              "      <th></th>\n",
              "      <th></th>\n",
              "      <th></th>\n",
              "      <th></th>\n",
              "      <th></th>\n",
              "      <th></th>\n",
              "      <th></th>\n",
              "    </tr>\n",
              "  </thead>\n",
              "  <tbody>\n",
              "    <tr>\n",
              "      <th>462809</th>\n",
              "      <td>1</td>\n",
              "      <td>0</td>\n",
              "      <td>22</td>\n",
              "      <td>0</td>\n",
              "      <td>5</td>\n",
              "      <td>1.000000</td>\n",
              "      <td>2</td>\n",
              "      <td>4.0</td>\n",
              "      <td>3</td>\n",
              "      <td>3</td>\n",
              "    </tr>\n",
              "    <tr>\n",
              "      <th>462643</th>\n",
              "      <td>0</td>\n",
              "      <td>1</td>\n",
              "      <td>38</td>\n",
              "      <td>1</td>\n",
              "      <td>2</td>\n",
              "      <td>2.641663</td>\n",
              "      <td>0</td>\n",
              "      <td>3.0</td>\n",
              "      <td>3</td>\n",
              "      <td>0</td>\n",
              "    </tr>\n",
              "    <tr>\n",
              "      <th>466315</th>\n",
              "      <td>0</td>\n",
              "      <td>1</td>\n",
              "      <td>67</td>\n",
              "      <td>1</td>\n",
              "      <td>2</td>\n",
              "      <td>1.000000</td>\n",
              "      <td>2</td>\n",
              "      <td>1.0</td>\n",
              "      <td>5</td>\n",
              "      <td>1</td>\n",
              "    </tr>\n",
              "    <tr>\n",
              "      <th>461735</th>\n",
              "      <td>1</td>\n",
              "      <td>1</td>\n",
              "      <td>67</td>\n",
              "      <td>1</td>\n",
              "      <td>7</td>\n",
              "      <td>0.000000</td>\n",
              "      <td>1</td>\n",
              "      <td>2.0</td>\n",
              "      <td>5</td>\n",
              "      <td>1</td>\n",
              "    </tr>\n",
              "    <tr>\n",
              "      <th>462669</th>\n",
              "      <td>0</td>\n",
              "      <td>1</td>\n",
              "      <td>40</td>\n",
              "      <td>1</td>\n",
              "      <td>3</td>\n",
              "      <td>2.641663</td>\n",
              "      <td>1</td>\n",
              "      <td>6.0</td>\n",
              "      <td>5</td>\n",
              "      <td>0</td>\n",
              "    </tr>\n",
              "    <tr>\n",
              "      <th>...</th>\n",
              "      <td>...</td>\n",
              "      <td>...</td>\n",
              "      <td>...</td>\n",
              "      <td>...</td>\n",
              "      <td>...</td>\n",
              "      <td>...</td>\n",
              "      <td>...</td>\n",
              "      <td>...</td>\n",
              "      <td>...</td>\n",
              "      <td>...</td>\n",
              "    </tr>\n",
              "    <tr>\n",
              "      <th>464018</th>\n",
              "      <td>1</td>\n",
              "      <td>0</td>\n",
              "      <td>22</td>\n",
              "      <td>0</td>\n",
              "      <td>0</td>\n",
              "      <td>0.000000</td>\n",
              "      <td>2</td>\n",
              "      <td>7.0</td>\n",
              "      <td>0</td>\n",
              "      <td>3</td>\n",
              "    </tr>\n",
              "    <tr>\n",
              "      <th>464685</th>\n",
              "      <td>1</td>\n",
              "      <td>0</td>\n",
              "      <td>35</td>\n",
              "      <td>0</td>\n",
              "      <td>4</td>\n",
              "      <td>3.000000</td>\n",
              "      <td>2</td>\n",
              "      <td>4.0</td>\n",
              "      <td>3</td>\n",
              "      <td>3</td>\n",
              "    </tr>\n",
              "    <tr>\n",
              "      <th>465406</th>\n",
              "      <td>0</td>\n",
              "      <td>0</td>\n",
              "      <td>33</td>\n",
              "      <td>1</td>\n",
              "      <td>5</td>\n",
              "      <td>1.000000</td>\n",
              "      <td>2</td>\n",
              "      <td>1.0</td>\n",
              "      <td>5</td>\n",
              "      <td>3</td>\n",
              "    </tr>\n",
              "    <tr>\n",
              "      <th>467299</th>\n",
              "      <td>0</td>\n",
              "      <td>0</td>\n",
              "      <td>27</td>\n",
              "      <td>1</td>\n",
              "      <td>5</td>\n",
              "      <td>1.000000</td>\n",
              "      <td>2</td>\n",
              "      <td>4.0</td>\n",
              "      <td>5</td>\n",
              "      <td>1</td>\n",
              "    </tr>\n",
              "    <tr>\n",
              "      <th>461879</th>\n",
              "      <td>1</td>\n",
              "      <td>1</td>\n",
              "      <td>37</td>\n",
              "      <td>1</td>\n",
              "      <td>4</td>\n",
              "      <td>0.000000</td>\n",
              "      <td>0</td>\n",
              "      <td>3.0</td>\n",
              "      <td>3</td>\n",
              "      <td>1</td>\n",
              "    </tr>\n",
              "  </tbody>\n",
              "</table>\n",
              "<p>8068 rows × 10 columns</p>\n",
              "</div>\n",
              "    <div class=\"colab-df-buttons\">\n",
              "\n",
              "  <div class=\"colab-df-container\">\n",
              "    <button class=\"colab-df-convert\" onclick=\"convertToInteractive('df-122085a8-0de3-410b-94a2-d6c3b7c4b7e0')\"\n",
              "            title=\"Convert this dataframe to an interactive table.\"\n",
              "            style=\"display:none;\">\n",
              "\n",
              "  <svg xmlns=\"http://www.w3.org/2000/svg\" height=\"24px\" viewBox=\"0 -960 960 960\">\n",
              "    <path d=\"M120-120v-720h720v720H120Zm60-500h600v-160H180v160Zm220 220h160v-160H400v160Zm0 220h160v-160H400v160ZM180-400h160v-160H180v160Zm440 0h160v-160H620v160ZM180-180h160v-160H180v160Zm440 0h160v-160H620v160Z\"/>\n",
              "  </svg>\n",
              "    </button>\n",
              "\n",
              "  <style>\n",
              "    .colab-df-container {\n",
              "      display:flex;\n",
              "      gap: 12px;\n",
              "    }\n",
              "\n",
              "    .colab-df-convert {\n",
              "      background-color: #E8F0FE;\n",
              "      border: none;\n",
              "      border-radius: 50%;\n",
              "      cursor: pointer;\n",
              "      display: none;\n",
              "      fill: #1967D2;\n",
              "      height: 32px;\n",
              "      padding: 0 0 0 0;\n",
              "      width: 32px;\n",
              "    }\n",
              "\n",
              "    .colab-df-convert:hover {\n",
              "      background-color: #E2EBFA;\n",
              "      box-shadow: 0px 1px 2px rgba(60, 64, 67, 0.3), 0px 1px 3px 1px rgba(60, 64, 67, 0.15);\n",
              "      fill: #174EA6;\n",
              "    }\n",
              "\n",
              "    .colab-df-buttons div {\n",
              "      margin-bottom: 4px;\n",
              "    }\n",
              "\n",
              "    [theme=dark] .colab-df-convert {\n",
              "      background-color: #3B4455;\n",
              "      fill: #D2E3FC;\n",
              "    }\n",
              "\n",
              "    [theme=dark] .colab-df-convert:hover {\n",
              "      background-color: #434B5C;\n",
              "      box-shadow: 0px 1px 3px 1px rgba(0, 0, 0, 0.15);\n",
              "      filter: drop-shadow(0px 1px 2px rgba(0, 0, 0, 0.3));\n",
              "      fill: #FFFFFF;\n",
              "    }\n",
              "  </style>\n",
              "\n",
              "    <script>\n",
              "      const buttonEl =\n",
              "        document.querySelector('#df-122085a8-0de3-410b-94a2-d6c3b7c4b7e0 button.colab-df-convert');\n",
              "      buttonEl.style.display =\n",
              "        google.colab.kernel.accessAllowed ? 'block' : 'none';\n",
              "\n",
              "      async function convertToInteractive(key) {\n",
              "        const element = document.querySelector('#df-122085a8-0de3-410b-94a2-d6c3b7c4b7e0');\n",
              "        const dataTable =\n",
              "          await google.colab.kernel.invokeFunction('convertToInteractive',\n",
              "                                                    [key], {});\n",
              "        if (!dataTable) return;\n",
              "\n",
              "        const docLinkHtml = 'Like what you see? Visit the ' +\n",
              "          '<a target=\"_blank\" href=https://colab.research.google.com/notebooks/data_table.ipynb>data table notebook</a>'\n",
              "          + ' to learn more about interactive tables.';\n",
              "        element.innerHTML = '';\n",
              "        dataTable['output_type'] = 'display_data';\n",
              "        await google.colab.output.renderOutput(dataTable, element);\n",
              "        const docLink = document.createElement('div');\n",
              "        docLink.innerHTML = docLinkHtml;\n",
              "        element.appendChild(docLink);\n",
              "      }\n",
              "    </script>\n",
              "  </div>\n",
              "\n",
              "\n",
              "<div id=\"df-1cd59a96-d333-4e18-b79a-d9846349d60b\">\n",
              "  <button class=\"colab-df-quickchart\" onclick=\"quickchart('df-1cd59a96-d333-4e18-b79a-d9846349d60b')\"\n",
              "            title=\"Suggest charts.\"\n",
              "            style=\"display:none;\">\n",
              "\n",
              "<svg xmlns=\"http://www.w3.org/2000/svg\" height=\"24px\"viewBox=\"0 0 24 24\"\n",
              "     width=\"24px\">\n",
              "    <g>\n",
              "        <path d=\"M19 3H5c-1.1 0-2 .9-2 2v14c0 1.1.9 2 2 2h14c1.1 0 2-.9 2-2V5c0-1.1-.9-2-2-2zM9 17H7v-7h2v7zm4 0h-2V7h2v10zm4 0h-2v-4h2v4z\"/>\n",
              "    </g>\n",
              "</svg>\n",
              "  </button>\n",
              "\n",
              "<style>\n",
              "  .colab-df-quickchart {\n",
              "      --bg-color: #E8F0FE;\n",
              "      --fill-color: #1967D2;\n",
              "      --hover-bg-color: #E2EBFA;\n",
              "      --hover-fill-color: #174EA6;\n",
              "      --disabled-fill-color: #AAA;\n",
              "      --disabled-bg-color: #DDD;\n",
              "  }\n",
              "\n",
              "  [theme=dark] .colab-df-quickchart {\n",
              "      --bg-color: #3B4455;\n",
              "      --fill-color: #D2E3FC;\n",
              "      --hover-bg-color: #434B5C;\n",
              "      --hover-fill-color: #FFFFFF;\n",
              "      --disabled-bg-color: #3B4455;\n",
              "      --disabled-fill-color: #666;\n",
              "  }\n",
              "\n",
              "  .colab-df-quickchart {\n",
              "    background-color: var(--bg-color);\n",
              "    border: none;\n",
              "    border-radius: 50%;\n",
              "    cursor: pointer;\n",
              "    display: none;\n",
              "    fill: var(--fill-color);\n",
              "    height: 32px;\n",
              "    padding: 0;\n",
              "    width: 32px;\n",
              "  }\n",
              "\n",
              "  .colab-df-quickchart:hover {\n",
              "    background-color: var(--hover-bg-color);\n",
              "    box-shadow: 0 1px 2px rgba(60, 64, 67, 0.3), 0 1px 3px 1px rgba(60, 64, 67, 0.15);\n",
              "    fill: var(--button-hover-fill-color);\n",
              "  }\n",
              "\n",
              "  .colab-df-quickchart-complete:disabled,\n",
              "  .colab-df-quickchart-complete:disabled:hover {\n",
              "    background-color: var(--disabled-bg-color);\n",
              "    fill: var(--disabled-fill-color);\n",
              "    box-shadow: none;\n",
              "  }\n",
              "\n",
              "  .colab-df-spinner {\n",
              "    border: 2px solid var(--fill-color);\n",
              "    border-color: transparent;\n",
              "    border-bottom-color: var(--fill-color);\n",
              "    animation:\n",
              "      spin 1s steps(1) infinite;\n",
              "  }\n",
              "\n",
              "  @keyframes spin {\n",
              "    0% {\n",
              "      border-color: transparent;\n",
              "      border-bottom-color: var(--fill-color);\n",
              "      border-left-color: var(--fill-color);\n",
              "    }\n",
              "    20% {\n",
              "      border-color: transparent;\n",
              "      border-left-color: var(--fill-color);\n",
              "      border-top-color: var(--fill-color);\n",
              "    }\n",
              "    30% {\n",
              "      border-color: transparent;\n",
              "      border-left-color: var(--fill-color);\n",
              "      border-top-color: var(--fill-color);\n",
              "      border-right-color: var(--fill-color);\n",
              "    }\n",
              "    40% {\n",
              "      border-color: transparent;\n",
              "      border-right-color: var(--fill-color);\n",
              "      border-top-color: var(--fill-color);\n",
              "    }\n",
              "    60% {\n",
              "      border-color: transparent;\n",
              "      border-right-color: var(--fill-color);\n",
              "    }\n",
              "    80% {\n",
              "      border-color: transparent;\n",
              "      border-right-color: var(--fill-color);\n",
              "      border-bottom-color: var(--fill-color);\n",
              "    }\n",
              "    90% {\n",
              "      border-color: transparent;\n",
              "      border-bottom-color: var(--fill-color);\n",
              "    }\n",
              "  }\n",
              "</style>\n",
              "\n",
              "  <script>\n",
              "    async function quickchart(key) {\n",
              "      const quickchartButtonEl =\n",
              "        document.querySelector('#' + key + ' button');\n",
              "      quickchartButtonEl.disabled = true;  // To prevent multiple clicks.\n",
              "      quickchartButtonEl.classList.add('colab-df-spinner');\n",
              "      try {\n",
              "        const charts = await google.colab.kernel.invokeFunction(\n",
              "            'suggestCharts', [key], {});\n",
              "      } catch (error) {\n",
              "        console.error('Error during call to suggestCharts:', error);\n",
              "      }\n",
              "      quickchartButtonEl.classList.remove('colab-df-spinner');\n",
              "      quickchartButtonEl.classList.add('colab-df-quickchart-complete');\n",
              "    }\n",
              "    (() => {\n",
              "      let quickchartButtonEl =\n",
              "        document.querySelector('#df-1cd59a96-d333-4e18-b79a-d9846349d60b button');\n",
              "      quickchartButtonEl.style.display =\n",
              "        google.colab.kernel.accessAllowed ? 'block' : 'none';\n",
              "    })();\n",
              "  </script>\n",
              "</div>\n",
              "    </div>\n",
              "  </div>\n"
            ]
          },
          "metadata": {},
          "execution_count": 16
        }
      ],
      "source": [
        "#Need to remove Outliers using zscore method\n",
        "from scipy.stats import zscore\n",
        "z=np.abs(zscore(df))\n",
        "df"
      ]
    },
    {
      "cell_type": "code",
      "execution_count": null,
      "id": "83529c18",
      "metadata": {
        "execution": {
          "iopub.execute_input": "2023-05-19T06:47:39.108387Z",
          "iopub.status.busy": "2023-05-19T06:47:39.107998Z",
          "iopub.status.idle": "2023-05-19T06:47:39.116550Z",
          "shell.execute_reply": "2023-05-19T06:47:39.114884Z"
        },
        "papermill": {
          "duration": 0.026298,
          "end_time": "2023-05-19T06:47:39.118968",
          "exception": false,
          "start_time": "2023-05-19T06:47:39.092670",
          "status": "completed"
        },
        "tags": [],
        "colab": {
          "base_uri": "https://localhost:8080/"
        },
        "id": "83529c18",
        "outputId": "52047fff-1f3d-474f-80ca-156d1017a2e7"
      },
      "outputs": [
        {
          "output_type": "stream",
          "name": "stdout",
          "text": [
            "(array([  22,   26,   42,   55,  150,  202,  292,  321,  338,  344,  391,\n",
            "        455,  517,  531,  628,  718,  831,  842,  857,  869,  940,  992,\n",
            "       1034, 1226, 1232, 1232, 1264, 1297, 1403, 1447, 1509, 1546, 1549,\n",
            "       1603, 1695, 1729, 1902, 1942, 2025, 2059, 2193, 2226, 2258, 2259,\n",
            "       2267, 2296, 2313, 2388, 2401, 2421, 2431, 2466, 2511, 2568, 2609,\n",
            "       2647, 2710, 2716, 2722, 2729, 2792, 2794, 2822, 2837, 2965, 3035,\n",
            "       3044, 3055, 3131, 3177, 3178, 3235, 3243, 3264, 3298, 3361, 3502,\n",
            "       3506, 3604, 3606, 3705, 3714, 3757, 3763, 3765, 3767, 3879, 3895,\n",
            "       3902, 3910, 3958, 3979, 4225, 4249, 4312, 4424, 4447, 4465, 4480,\n",
            "       4602, 4630, 4633, 4685, 4698, 4773, 4784, 4811, 4869, 4948, 4956,\n",
            "       4961, 4978, 5078, 5096, 5280, 5313, 5368, 5395, 5412, 5418, 5492,\n",
            "       5530, 5531, 5558, 5581, 5680, 5684, 5728, 5762, 5825, 5992, 5994,\n",
            "       6003, 6039, 6061, 6098, 6101, 6158, 6237, 6271, 6303, 6333, 6351,\n",
            "       6370, 6392, 6518, 6555, 6603, 6624, 6627, 6649, 6730, 6755, 6780,\n",
            "       6793, 6879, 6894, 6909, 6992, 6992, 7012, 7047, 7205, 7270, 7347,\n",
            "       7386, 7397, 7417, 7497, 7542, 7579, 7663, 7726, 7745, 7776, 7798,\n",
            "       7799, 7835, 7897, 7900, 7990, 7993, 7995, 8028, 8043]), array([5, 7, 5, 5, 7, 7, 7, 5, 5, 7, 5, 5, 5, 5, 5, 7, 5, 5, 5, 7, 7, 5,\n",
            "       7, 5, 5, 7, 5, 7, 7, 7, 7, 7, 5, 7, 5, 7, 7, 7, 5, 5, 5, 5, 5, 5,\n",
            "       5, 5, 7, 5, 7, 5, 5, 7, 7, 7, 7, 7, 7, 7, 5, 5, 5, 7, 5, 5, 7, 7,\n",
            "       5, 5, 5, 5, 5, 7, 5, 5, 5, 7, 7, 7, 7, 7, 7, 7, 5, 7, 5, 5, 5, 7,\n",
            "       5, 5, 7, 5, 5, 7, 5, 7, 7, 5, 7, 7, 7, 7, 5, 7, 5, 5, 7, 5, 7, 7,\n",
            "       5, 5, 7, 5, 7, 5, 7, 5, 7, 7, 5, 5, 5, 7, 7, 7, 5, 5, 7, 5, 5, 5,\n",
            "       5, 5, 7, 7, 5, 5, 5, 7, 7, 7, 7, 7, 7, 5, 5, 7, 7, 7, 7, 5, 7, 5,\n",
            "       5, 7, 7, 7, 5, 7, 7, 7, 5, 7, 7, 5, 5, 7, 7, 7, 7, 5, 5, 7, 7, 5,\n",
            "       7, 5, 7, 7, 5, 7, 7, 5, 5]))\n"
          ]
        }
      ],
      "source": [
        "threshold=3\n",
        "print(np.where(z>3))"
      ]
    },
    {
      "cell_type": "code",
      "execution_count": null,
      "id": "57ad6bbd",
      "metadata": {
        "execution": {
          "iopub.execute_input": "2023-05-19T06:47:39.148133Z",
          "iopub.status.busy": "2023-05-19T06:47:39.147671Z",
          "iopub.status.idle": "2023-05-19T06:47:39.169452Z",
          "shell.execute_reply": "2023-05-19T06:47:39.168104Z"
        },
        "papermill": {
          "duration": 0.038895,
          "end_time": "2023-05-19T06:47:39.171433",
          "exception": false,
          "start_time": "2023-05-19T06:47:39.132538",
          "status": "completed"
        },
        "tags": [],
        "colab": {
          "base_uri": "https://localhost:8080/",
          "height": 455
        },
        "id": "57ad6bbd",
        "outputId": "8b69b2e5-ee24-4135-a362-14156c99a997"
      },
      "outputs": [
        {
          "output_type": "execute_result",
          "data": {
            "text/plain": [
              "        Gender  Ever_Married  Age  Graduated  Profession  Work_Experience  \\\n",
              "ID                                                                          \n",
              "462809       1             0   22          0           5         1.000000   \n",
              "462643       0             1   38          1           2         2.641663   \n",
              "466315       0             1   67          1           2         1.000000   \n",
              "461735       1             1   67          1           7         0.000000   \n",
              "462669       0             1   40          1           3         2.641663   \n",
              "...        ...           ...  ...        ...         ...              ...   \n",
              "464018       1             0   22          0           0         0.000000   \n",
              "464685       1             0   35          0           4         3.000000   \n",
              "465406       0             0   33          1           5         1.000000   \n",
              "467299       0             0   27          1           5         1.000000   \n",
              "461879       1             1   37          1           4         0.000000   \n",
              "\n",
              "        Spending_Score  Family_Size  Var_1  Segmentation  \n",
              "ID                                                        \n",
              "462809               2          4.0      3             3  \n",
              "462643               0          3.0      3             0  \n",
              "466315               2          1.0      5             1  \n",
              "461735               1          2.0      5             1  \n",
              "462669               1          6.0      5             0  \n",
              "...                ...          ...    ...           ...  \n",
              "464018               2          7.0      0             3  \n",
              "464685               2          4.0      3             3  \n",
              "465406               2          1.0      5             3  \n",
              "467299               2          4.0      5             1  \n",
              "461879               0          3.0      3             1  \n",
              "\n",
              "[7885 rows x 10 columns]"
            ],
            "text/html": [
              "\n",
              "  <div id=\"df-ad40d2d1-e09f-40a1-8b32-63e648ea04b1\" class=\"colab-df-container\">\n",
              "    <div>\n",
              "<style scoped>\n",
              "    .dataframe tbody tr th:only-of-type {\n",
              "        vertical-align: middle;\n",
              "    }\n",
              "\n",
              "    .dataframe tbody tr th {\n",
              "        vertical-align: top;\n",
              "    }\n",
              "\n",
              "    .dataframe thead th {\n",
              "        text-align: right;\n",
              "    }\n",
              "</style>\n",
              "<table border=\"1\" class=\"dataframe\">\n",
              "  <thead>\n",
              "    <tr style=\"text-align: right;\">\n",
              "      <th></th>\n",
              "      <th>Gender</th>\n",
              "      <th>Ever_Married</th>\n",
              "      <th>Age</th>\n",
              "      <th>Graduated</th>\n",
              "      <th>Profession</th>\n",
              "      <th>Work_Experience</th>\n",
              "      <th>Spending_Score</th>\n",
              "      <th>Family_Size</th>\n",
              "      <th>Var_1</th>\n",
              "      <th>Segmentation</th>\n",
              "    </tr>\n",
              "    <tr>\n",
              "      <th>ID</th>\n",
              "      <th></th>\n",
              "      <th></th>\n",
              "      <th></th>\n",
              "      <th></th>\n",
              "      <th></th>\n",
              "      <th></th>\n",
              "      <th></th>\n",
              "      <th></th>\n",
              "      <th></th>\n",
              "      <th></th>\n",
              "    </tr>\n",
              "  </thead>\n",
              "  <tbody>\n",
              "    <tr>\n",
              "      <th>462809</th>\n",
              "      <td>1</td>\n",
              "      <td>0</td>\n",
              "      <td>22</td>\n",
              "      <td>0</td>\n",
              "      <td>5</td>\n",
              "      <td>1.000000</td>\n",
              "      <td>2</td>\n",
              "      <td>4.0</td>\n",
              "      <td>3</td>\n",
              "      <td>3</td>\n",
              "    </tr>\n",
              "    <tr>\n",
              "      <th>462643</th>\n",
              "      <td>0</td>\n",
              "      <td>1</td>\n",
              "      <td>38</td>\n",
              "      <td>1</td>\n",
              "      <td>2</td>\n",
              "      <td>2.641663</td>\n",
              "      <td>0</td>\n",
              "      <td>3.0</td>\n",
              "      <td>3</td>\n",
              "      <td>0</td>\n",
              "    </tr>\n",
              "    <tr>\n",
              "      <th>466315</th>\n",
              "      <td>0</td>\n",
              "      <td>1</td>\n",
              "      <td>67</td>\n",
              "      <td>1</td>\n",
              "      <td>2</td>\n",
              "      <td>1.000000</td>\n",
              "      <td>2</td>\n",
              "      <td>1.0</td>\n",
              "      <td>5</td>\n",
              "      <td>1</td>\n",
              "    </tr>\n",
              "    <tr>\n",
              "      <th>461735</th>\n",
              "      <td>1</td>\n",
              "      <td>1</td>\n",
              "      <td>67</td>\n",
              "      <td>1</td>\n",
              "      <td>7</td>\n",
              "      <td>0.000000</td>\n",
              "      <td>1</td>\n",
              "      <td>2.0</td>\n",
              "      <td>5</td>\n",
              "      <td>1</td>\n",
              "    </tr>\n",
              "    <tr>\n",
              "      <th>462669</th>\n",
              "      <td>0</td>\n",
              "      <td>1</td>\n",
              "      <td>40</td>\n",
              "      <td>1</td>\n",
              "      <td>3</td>\n",
              "      <td>2.641663</td>\n",
              "      <td>1</td>\n",
              "      <td>6.0</td>\n",
              "      <td>5</td>\n",
              "      <td>0</td>\n",
              "    </tr>\n",
              "    <tr>\n",
              "      <th>...</th>\n",
              "      <td>...</td>\n",
              "      <td>...</td>\n",
              "      <td>...</td>\n",
              "      <td>...</td>\n",
              "      <td>...</td>\n",
              "      <td>...</td>\n",
              "      <td>...</td>\n",
              "      <td>...</td>\n",
              "      <td>...</td>\n",
              "      <td>...</td>\n",
              "    </tr>\n",
              "    <tr>\n",
              "      <th>464018</th>\n",
              "      <td>1</td>\n",
              "      <td>0</td>\n",
              "      <td>22</td>\n",
              "      <td>0</td>\n",
              "      <td>0</td>\n",
              "      <td>0.000000</td>\n",
              "      <td>2</td>\n",
              "      <td>7.0</td>\n",
              "      <td>0</td>\n",
              "      <td>3</td>\n",
              "    </tr>\n",
              "    <tr>\n",
              "      <th>464685</th>\n",
              "      <td>1</td>\n",
              "      <td>0</td>\n",
              "      <td>35</td>\n",
              "      <td>0</td>\n",
              "      <td>4</td>\n",
              "      <td>3.000000</td>\n",
              "      <td>2</td>\n",
              "      <td>4.0</td>\n",
              "      <td>3</td>\n",
              "      <td>3</td>\n",
              "    </tr>\n",
              "    <tr>\n",
              "      <th>465406</th>\n",
              "      <td>0</td>\n",
              "      <td>0</td>\n",
              "      <td>33</td>\n",
              "      <td>1</td>\n",
              "      <td>5</td>\n",
              "      <td>1.000000</td>\n",
              "      <td>2</td>\n",
              "      <td>1.0</td>\n",
              "      <td>5</td>\n",
              "      <td>3</td>\n",
              "    </tr>\n",
              "    <tr>\n",
              "      <th>467299</th>\n",
              "      <td>0</td>\n",
              "      <td>0</td>\n",
              "      <td>27</td>\n",
              "      <td>1</td>\n",
              "      <td>5</td>\n",
              "      <td>1.000000</td>\n",
              "      <td>2</td>\n",
              "      <td>4.0</td>\n",
              "      <td>5</td>\n",
              "      <td>1</td>\n",
              "    </tr>\n",
              "    <tr>\n",
              "      <th>461879</th>\n",
              "      <td>1</td>\n",
              "      <td>1</td>\n",
              "      <td>37</td>\n",
              "      <td>1</td>\n",
              "      <td>4</td>\n",
              "      <td>0.000000</td>\n",
              "      <td>0</td>\n",
              "      <td>3.0</td>\n",
              "      <td>3</td>\n",
              "      <td>1</td>\n",
              "    </tr>\n",
              "  </tbody>\n",
              "</table>\n",
              "<p>7885 rows × 10 columns</p>\n",
              "</div>\n",
              "    <div class=\"colab-df-buttons\">\n",
              "\n",
              "  <div class=\"colab-df-container\">\n",
              "    <button class=\"colab-df-convert\" onclick=\"convertToInteractive('df-ad40d2d1-e09f-40a1-8b32-63e648ea04b1')\"\n",
              "            title=\"Convert this dataframe to an interactive table.\"\n",
              "            style=\"display:none;\">\n",
              "\n",
              "  <svg xmlns=\"http://www.w3.org/2000/svg\" height=\"24px\" viewBox=\"0 -960 960 960\">\n",
              "    <path d=\"M120-120v-720h720v720H120Zm60-500h600v-160H180v160Zm220 220h160v-160H400v160Zm0 220h160v-160H400v160ZM180-400h160v-160H180v160Zm440 0h160v-160H620v160ZM180-180h160v-160H180v160Zm440 0h160v-160H620v160Z\"/>\n",
              "  </svg>\n",
              "    </button>\n",
              "\n",
              "  <style>\n",
              "    .colab-df-container {\n",
              "      display:flex;\n",
              "      gap: 12px;\n",
              "    }\n",
              "\n",
              "    .colab-df-convert {\n",
              "      background-color: #E8F0FE;\n",
              "      border: none;\n",
              "      border-radius: 50%;\n",
              "      cursor: pointer;\n",
              "      display: none;\n",
              "      fill: #1967D2;\n",
              "      height: 32px;\n",
              "      padding: 0 0 0 0;\n",
              "      width: 32px;\n",
              "    }\n",
              "\n",
              "    .colab-df-convert:hover {\n",
              "      background-color: #E2EBFA;\n",
              "      box-shadow: 0px 1px 2px rgba(60, 64, 67, 0.3), 0px 1px 3px 1px rgba(60, 64, 67, 0.15);\n",
              "      fill: #174EA6;\n",
              "    }\n",
              "\n",
              "    .colab-df-buttons div {\n",
              "      margin-bottom: 4px;\n",
              "    }\n",
              "\n",
              "    [theme=dark] .colab-df-convert {\n",
              "      background-color: #3B4455;\n",
              "      fill: #D2E3FC;\n",
              "    }\n",
              "\n",
              "    [theme=dark] .colab-df-convert:hover {\n",
              "      background-color: #434B5C;\n",
              "      box-shadow: 0px 1px 3px 1px rgba(0, 0, 0, 0.15);\n",
              "      filter: drop-shadow(0px 1px 2px rgba(0, 0, 0, 0.3));\n",
              "      fill: #FFFFFF;\n",
              "    }\n",
              "  </style>\n",
              "\n",
              "    <script>\n",
              "      const buttonEl =\n",
              "        document.querySelector('#df-ad40d2d1-e09f-40a1-8b32-63e648ea04b1 button.colab-df-convert');\n",
              "      buttonEl.style.display =\n",
              "        google.colab.kernel.accessAllowed ? 'block' : 'none';\n",
              "\n",
              "      async function convertToInteractive(key) {\n",
              "        const element = document.querySelector('#df-ad40d2d1-e09f-40a1-8b32-63e648ea04b1');\n",
              "        const dataTable =\n",
              "          await google.colab.kernel.invokeFunction('convertToInteractive',\n",
              "                                                    [key], {});\n",
              "        if (!dataTable) return;\n",
              "\n",
              "        const docLinkHtml = 'Like what you see? Visit the ' +\n",
              "          '<a target=\"_blank\" href=https://colab.research.google.com/notebooks/data_table.ipynb>data table notebook</a>'\n",
              "          + ' to learn more about interactive tables.';\n",
              "        element.innerHTML = '';\n",
              "        dataTable['output_type'] = 'display_data';\n",
              "        await google.colab.output.renderOutput(dataTable, element);\n",
              "        const docLink = document.createElement('div');\n",
              "        docLink.innerHTML = docLinkHtml;\n",
              "        element.appendChild(docLink);\n",
              "      }\n",
              "    </script>\n",
              "  </div>\n",
              "\n",
              "\n",
              "<div id=\"df-a984a27b-67cf-4403-a8b2-508151c4ecde\">\n",
              "  <button class=\"colab-df-quickchart\" onclick=\"quickchart('df-a984a27b-67cf-4403-a8b2-508151c4ecde')\"\n",
              "            title=\"Suggest charts.\"\n",
              "            style=\"display:none;\">\n",
              "\n",
              "<svg xmlns=\"http://www.w3.org/2000/svg\" height=\"24px\"viewBox=\"0 0 24 24\"\n",
              "     width=\"24px\">\n",
              "    <g>\n",
              "        <path d=\"M19 3H5c-1.1 0-2 .9-2 2v14c0 1.1.9 2 2 2h14c1.1 0 2-.9 2-2V5c0-1.1-.9-2-2-2zM9 17H7v-7h2v7zm4 0h-2V7h2v10zm4 0h-2v-4h2v4z\"/>\n",
              "    </g>\n",
              "</svg>\n",
              "  </button>\n",
              "\n",
              "<style>\n",
              "  .colab-df-quickchart {\n",
              "      --bg-color: #E8F0FE;\n",
              "      --fill-color: #1967D2;\n",
              "      --hover-bg-color: #E2EBFA;\n",
              "      --hover-fill-color: #174EA6;\n",
              "      --disabled-fill-color: #AAA;\n",
              "      --disabled-bg-color: #DDD;\n",
              "  }\n",
              "\n",
              "  [theme=dark] .colab-df-quickchart {\n",
              "      --bg-color: #3B4455;\n",
              "      --fill-color: #D2E3FC;\n",
              "      --hover-bg-color: #434B5C;\n",
              "      --hover-fill-color: #FFFFFF;\n",
              "      --disabled-bg-color: #3B4455;\n",
              "      --disabled-fill-color: #666;\n",
              "  }\n",
              "\n",
              "  .colab-df-quickchart {\n",
              "    background-color: var(--bg-color);\n",
              "    border: none;\n",
              "    border-radius: 50%;\n",
              "    cursor: pointer;\n",
              "    display: none;\n",
              "    fill: var(--fill-color);\n",
              "    height: 32px;\n",
              "    padding: 0;\n",
              "    width: 32px;\n",
              "  }\n",
              "\n",
              "  .colab-df-quickchart:hover {\n",
              "    background-color: var(--hover-bg-color);\n",
              "    box-shadow: 0 1px 2px rgba(60, 64, 67, 0.3), 0 1px 3px 1px rgba(60, 64, 67, 0.15);\n",
              "    fill: var(--button-hover-fill-color);\n",
              "  }\n",
              "\n",
              "  .colab-df-quickchart-complete:disabled,\n",
              "  .colab-df-quickchart-complete:disabled:hover {\n",
              "    background-color: var(--disabled-bg-color);\n",
              "    fill: var(--disabled-fill-color);\n",
              "    box-shadow: none;\n",
              "  }\n",
              "\n",
              "  .colab-df-spinner {\n",
              "    border: 2px solid var(--fill-color);\n",
              "    border-color: transparent;\n",
              "    border-bottom-color: var(--fill-color);\n",
              "    animation:\n",
              "      spin 1s steps(1) infinite;\n",
              "  }\n",
              "\n",
              "  @keyframes spin {\n",
              "    0% {\n",
              "      border-color: transparent;\n",
              "      border-bottom-color: var(--fill-color);\n",
              "      border-left-color: var(--fill-color);\n",
              "    }\n",
              "    20% {\n",
              "      border-color: transparent;\n",
              "      border-left-color: var(--fill-color);\n",
              "      border-top-color: var(--fill-color);\n",
              "    }\n",
              "    30% {\n",
              "      border-color: transparent;\n",
              "      border-left-color: var(--fill-color);\n",
              "      border-top-color: var(--fill-color);\n",
              "      border-right-color: var(--fill-color);\n",
              "    }\n",
              "    40% {\n",
              "      border-color: transparent;\n",
              "      border-right-color: var(--fill-color);\n",
              "      border-top-color: var(--fill-color);\n",
              "    }\n",
              "    60% {\n",
              "      border-color: transparent;\n",
              "      border-right-color: var(--fill-color);\n",
              "    }\n",
              "    80% {\n",
              "      border-color: transparent;\n",
              "      border-right-color: var(--fill-color);\n",
              "      border-bottom-color: var(--fill-color);\n",
              "    }\n",
              "    90% {\n",
              "      border-color: transparent;\n",
              "      border-bottom-color: var(--fill-color);\n",
              "    }\n",
              "  }\n",
              "</style>\n",
              "\n",
              "  <script>\n",
              "    async function quickchart(key) {\n",
              "      const quickchartButtonEl =\n",
              "        document.querySelector('#' + key + ' button');\n",
              "      quickchartButtonEl.disabled = true;  // To prevent multiple clicks.\n",
              "      quickchartButtonEl.classList.add('colab-df-spinner');\n",
              "      try {\n",
              "        const charts = await google.colab.kernel.invokeFunction(\n",
              "            'suggestCharts', [key], {});\n",
              "      } catch (error) {\n",
              "        console.error('Error during call to suggestCharts:', error);\n",
              "      }\n",
              "      quickchartButtonEl.classList.remove('colab-df-spinner');\n",
              "      quickchartButtonEl.classList.add('colab-df-quickchart-complete');\n",
              "    }\n",
              "    (() => {\n",
              "      let quickchartButtonEl =\n",
              "        document.querySelector('#df-a984a27b-67cf-4403-a8b2-508151c4ecde button');\n",
              "      quickchartButtonEl.style.display =\n",
              "        google.colab.kernel.accessAllowed ? 'block' : 'none';\n",
              "    })();\n",
              "  </script>\n",
              "</div>\n",
              "    </div>\n",
              "  </div>\n"
            ]
          },
          "metadata": {},
          "execution_count": 18
        }
      ],
      "source": [
        "df_new=df[(z<3).all(axis=1)]\n",
        "df_new"
      ]
    },
    {
      "cell_type": "code",
      "execution_count": null,
      "id": "4e047083",
      "metadata": {
        "execution": {
          "iopub.execute_input": "2023-05-19T06:47:39.200417Z",
          "iopub.status.busy": "2023-05-19T06:47:39.199998Z",
          "iopub.status.idle": "2023-05-19T06:47:39.785001Z",
          "shell.execute_reply": "2023-05-19T06:47:39.784100Z"
        },
        "papermill": {
          "duration": 0.601866,
          "end_time": "2023-05-19T06:47:39.787206",
          "exception": false,
          "start_time": "2023-05-19T06:47:39.185340",
          "status": "completed"
        },
        "tags": [],
        "colab": {
          "base_uri": "https://localhost:8080/",
          "height": 1000
        },
        "id": "4e047083",
        "outputId": "7f45ef0b-0965-4814-c46b-836f20fa4f12"
      },
      "outputs": [
        {
          "output_type": "execute_result",
          "data": {
            "text/plain": [
              "<Axes: >"
            ]
          },
          "metadata": {},
          "execution_count": 19
        },
        {
          "output_type": "display_data",
          "data": {
            "text/plain": [
              "<Figure size 1200x1200 with 2 Axes>"
            ],
            "image/png": "[encoded data removed]"
          },
          "metadata": {}
        }
      ],
      "source": [
        "plt.figure(figsize=(12,12))\n",
        "sns.heatmap(df_new.corr(),annot=True)"
      ]
    },
    {
      "cell_type": "code",
      "execution_count": null,
      "id": "ba14665e",
      "metadata": {
        "execution": {
          "iopub.execute_input": "2023-05-19T06:47:39.820264Z",
          "iopub.status.busy": "2023-05-19T06:47:39.819900Z",
          "iopub.status.idle": "2023-05-19T06:47:40.041967Z",
          "shell.execute_reply": "2023-05-19T06:47:40.041148Z"
        },
        "papermill": {
          "duration": 0.241183,
          "end_time": "2023-05-19T06:47:40.043979",
          "exception": false,
          "start_time": "2023-05-19T06:47:39.802796",
          "status": "completed"
        },
        "tags": [],
        "colab": {
          "base_uri": "https://localhost:8080/",
          "height": 447
        },
        "id": "ba14665e",
        "outputId": "5fc37ac9-f6ea-44cf-ce97-7abe3f04a2ee"
      },
      "outputs": [
        {
          "output_type": "execute_result",
          "data": {
            "text/plain": [
              "<matplotlib.collections.PathCollection at 0x7bed013c7dc0>"
            ]
          },
          "metadata": {},
          "execution_count": 20
        },
        {
          "output_type": "display_data",
          "data": {
            "text/plain": [
              "<Figure size 640x480 with 1 Axes>"
            ],
            "image/png": "[encoded data removed]"
          },
          "metadata": {}
        }
      ],
      "source": [
        "plt.scatter('Age','Segmentation',data=df_new)"
      ]
    },
    {
      "cell_type": "code",
      "execution_count": null,
      "id": "1a4fca2f",
      "metadata": {
        "execution": {
          "iopub.execute_input": "2023-05-19T06:47:40.079209Z",
          "iopub.status.busy": "2023-05-19T06:47:40.078049Z",
          "iopub.status.idle": "2023-05-19T06:47:40.083153Z",
          "shell.execute_reply": "2023-05-19T06:47:40.082259Z"
        },
        "papermill": {
          "duration": 0.025521,
          "end_time": "2023-05-19T06:47:40.085806",
          "exception": false,
          "start_time": "2023-05-19T06:47:40.060285",
          "status": "completed"
        },
        "tags": [],
        "id": "1a4fca2f"
      },
      "outputs": [],
      "source": [
        "x=df_new.iloc[:,0:-1]"
      ]
    },
    {
      "cell_type": "code",
      "execution_count": null,
      "id": "98251f12",
      "metadata": {
        "execution": {
          "iopub.execute_input": "2023-05-19T06:47:40.119803Z",
          "iopub.status.busy": "2023-05-19T06:47:40.119400Z",
          "iopub.status.idle": "2023-05-19T06:47:40.124582Z",
          "shell.execute_reply": "2023-05-19T06:47:40.123295Z"
        },
        "papermill": {
          "duration": 0.025108,
          "end_time": "2023-05-19T06:47:40.127293",
          "exception": false,
          "start_time": "2023-05-19T06:47:40.102185",
          "status": "completed"
        },
        "tags": [],
        "id": "98251f12"
      },
      "outputs": [],
      "source": [
        "y=df_new.iloc[:,-1]"
      ]
    },
    {
      "cell_type": "code",
      "execution_count": null,
      "id": "f3fb8119",
      "metadata": {
        "execution": {
          "iopub.execute_input": "2023-05-19T06:47:40.161651Z",
          "iopub.status.busy": "2023-05-19T06:47:40.161291Z",
          "iopub.status.idle": "2023-05-19T06:47:40.169512Z",
          "shell.execute_reply": "2023-05-19T06:47:40.168208Z"
        },
        "papermill": {
          "duration": 0.028432,
          "end_time": "2023-05-19T06:47:40.171923",
          "exception": false,
          "start_time": "2023-05-19T06:47:40.143491",
          "status": "completed"
        },
        "tags": [],
        "id": "f3fb8119"
      },
      "outputs": [],
      "source": [
        "x_train,x_test,y_train,y_test=train_test_split(x,y,test_size=0.20,random_state=42)"
      ]
    },
    {
      "cell_type": "code",
      "execution_count": null,
      "id": "03dce96c",
      "metadata": {
        "execution": {
          "iopub.execute_input": "2023-05-19T06:47:40.205774Z",
          "iopub.status.busy": "2023-05-19T06:47:40.205349Z",
          "iopub.status.idle": "2023-05-19T06:47:40.211922Z",
          "shell.execute_reply": "2023-05-19T06:47:40.210601Z"
        },
        "papermill": {
          "duration": 0.025823,
          "end_time": "2023-05-19T06:47:40.213668",
          "exception": false,
          "start_time": "2023-05-19T06:47:40.187845",
          "status": "completed"
        },
        "tags": [],
        "colab": {
          "base_uri": "https://localhost:8080/"
        },
        "id": "03dce96c",
        "outputId": "36d51faf-32e8-4e43-caca-24ed2d3c8e20"
      },
      "outputs": [
        {
          "output_type": "execute_result",
          "data": {
            "text/plain": [
              "(6308, 9)"
            ]
          },
          "metadata": {},
          "execution_count": 24
        }
      ],
      "source": [
        "x_train.shape"
      ]
    },
    {
      "cell_type": "code",
      "execution_count": null,
      "id": "f378c188",
      "metadata": {
        "execution": {
          "iopub.execute_input": "2023-05-19T06:47:40.247539Z",
          "iopub.status.busy": "2023-05-19T06:47:40.247179Z",
          "iopub.status.idle": "2023-05-19T06:47:40.255044Z",
          "shell.execute_reply": "2023-05-19T06:47:40.253688Z"
        },
        "papermill": {
          "duration": 0.028027,
          "end_time": "2023-05-19T06:47:40.257497",
          "exception": false,
          "start_time": "2023-05-19T06:47:40.229470",
          "status": "completed"
        },
        "tags": [],
        "colab": {
          "base_uri": "https://localhost:8080/"
        },
        "id": "f378c188",
        "outputId": "b9c2e393-f6af-4ffd-ee69-6c6df51dc728"
      },
      "outputs": [
        {
          "output_type": "execute_result",
          "data": {
            "text/plain": [
              "(1577, 9)"
            ]
          },
          "metadata": {},
          "execution_count": 25
        }
      ],
      "source": [
        "x_test.shape"
      ]
    },
    {
      "cell_type": "code",
      "execution_count": null,
      "id": "ed469fd2",
      "metadata": {
        "execution": {
          "iopub.execute_input": "2023-05-19T06:47:40.291882Z",
          "iopub.status.busy": "2023-05-19T06:47:40.291467Z",
          "iopub.status.idle": "2023-05-19T06:47:40.297488Z",
          "shell.execute_reply": "2023-05-19T06:47:40.296588Z"
        },
        "papermill": {
          "duration": 0.025561,
          "end_time": "2023-05-19T06:47:40.299466",
          "exception": false,
          "start_time": "2023-05-19T06:47:40.273905",
          "status": "completed"
        },
        "tags": [],
        "colab": {
          "base_uri": "https://localhost:8080/"
        },
        "id": "ed469fd2",
        "outputId": "8fb81ba1-7668-4c04-dbf5-e9a902d44977"
      },
      "outputs": [
        {
          "output_type": "execute_result",
          "data": {
            "text/plain": [
              "(6308,)"
            ]
          },
          "metadata": {},
          "execution_count": 26
        }
      ],
      "source": [
        "y_train.shape"
      ]
    },
    {
      "cell_type": "code",
      "execution_count": null,
      "id": "09351a4f",
      "metadata": {
        "execution": {
          "iopub.execute_input": "2023-05-19T06:47:40.333259Z",
          "iopub.status.busy": "2023-05-19T06:47:40.332913Z",
          "iopub.status.idle": "2023-05-19T06:47:40.338144Z",
          "shell.execute_reply": "2023-05-19T06:47:40.337280Z"
        },
        "papermill": {
          "duration": 0.024585,
          "end_time": "2023-05-19T06:47:40.339955",
          "exception": false,
          "start_time": "2023-05-19T06:47:40.315370",
          "status": "completed"
        },
        "tags": [],
        "colab": {
          "base_uri": "https://localhost:8080/"
        },
        "id": "09351a4f",
        "outputId": "98324fe6-827f-4448-f23a-f322699ac1d1"
      },
      "outputs": [
        {
          "output_type": "execute_result",
          "data": {
            "text/plain": [
              "(1577,)"
            ]
          },
          "metadata": {},
          "execution_count": 27
        }
      ],
      "source": [
        "y_test.shape"
      ]
    },
    {
      "cell_type": "code",
      "execution_count": null,
      "id": "49fa8dca",
      "metadata": {
        "execution": {
          "iopub.execute_input": "2023-05-19T06:47:40.374415Z",
          "iopub.status.busy": "2023-05-19T06:47:40.374072Z",
          "iopub.status.idle": "2023-05-19T06:47:40.723126Z",
          "shell.execute_reply": "2023-05-19T06:47:40.721862Z"
        },
        "papermill": {
          "duration": 0.370263,
          "end_time": "2023-05-19T06:47:40.726276",
          "exception": false,
          "start_time": "2023-05-19T06:47:40.356013",
          "status": "completed"
        },
        "tags": [],
        "colab": {
          "base_uri": "https://localhost:8080/"
        },
        "id": "49fa8dca",
        "outputId": "7459cee2-1807-4221-b63f-5117bd9c594a"
      },
      "outputs": [
        {
          "output_type": "stream",
          "name": "stdout",
          "text": [
            "Score:  MultinomialNB() 0.4575142675967026\n",
            "Accuracy_score:  0.44831959416613826\n",
            "Confusion_matrix:  [[ 83  82  92  95]\n",
            " [ 72  65 196  56]\n",
            " [ 42  69 239  55]\n",
            " [ 48  35  28 320]]\n",
            "Classification Report: \n",
            "               precision    recall  f1-score   support\n",
            "\n",
            "           0       0.34      0.24      0.28       352\n",
            "           1       0.26      0.17      0.20       389\n",
            "           2       0.43      0.59      0.50       405\n",
            "           3       0.61      0.74      0.67       431\n",
            "\n",
            "    accuracy                           0.45      1577\n",
            "   macro avg       0.41      0.43      0.41      1577\n",
            "weighted avg       0.42      0.45      0.42      1577\n",
            "\n",
            "\n",
            "\n",
            "Score:  KNeighborsClassifier() 0.6326886493341788\n",
            "Accuracy_score:  0.45529486366518707\n",
            "Confusion_matrix:  [[153  90  46  63]\n",
            " [109 127 120  33]\n",
            " [ 72 102 191  40]\n",
            " [113  42  29 247]]\n",
            "Classification Report: \n",
            "               precision    recall  f1-score   support\n",
            "\n",
            "           0       0.34      0.43      0.38       352\n",
            "           1       0.35      0.33      0.34       389\n",
            "           2       0.49      0.47      0.48       405\n",
            "           3       0.64      0.57      0.61       431\n",
            "\n",
            "    accuracy                           0.46      1577\n",
            "   macro avg       0.46      0.45      0.45      1577\n",
            "weighted avg       0.47      0.46      0.46      1577\n",
            "\n",
            "\n",
            "\n",
            "Score:  DecisionTreeClassifier() 0.9633798351299937\n",
            "Accuracy_score:  0.42422320862396956\n",
            "Confusion_matrix:  [[137  87  60  68]\n",
            " [ 99 131 108  51]\n",
            " [ 79 116 164  46]\n",
            " [ 93  59  42 237]]\n",
            "Classification Report: \n",
            "               precision    recall  f1-score   support\n",
            "\n",
            "           0       0.34      0.39      0.36       352\n",
            "           1       0.33      0.34      0.34       389\n",
            "           2       0.44      0.40      0.42       405\n",
            "           3       0.59      0.55      0.57       431\n",
            "\n",
            "    accuracy                           0.42      1577\n",
            "   macro avg       0.42      0.42      0.42      1577\n",
            "weighted avg       0.43      0.42      0.43      1577\n",
            "\n",
            "\n",
            "\n",
            "Score:  DecisionTreeClassifier(criterion='entropy') 0.9633798351299937\n",
            "Accuracy_score:  0.42675967025998734\n",
            "Confusion_matrix:  [[125 101  56  70]\n",
            " [ 95 137 117  40]\n",
            " [ 78 119 172  36]\n",
            " [ 92  46  54 239]]\n",
            "Classification Report: \n",
            "               precision    recall  f1-score   support\n",
            "\n",
            "           0       0.32      0.36      0.34       352\n",
            "           1       0.34      0.35      0.35       389\n",
            "           2       0.43      0.42      0.43       405\n",
            "           3       0.62      0.55      0.59       431\n",
            "\n",
            "    accuracy                           0.43      1577\n",
            "   macro avg       0.43      0.42      0.42      1577\n",
            "weighted avg       0.44      0.43      0.43      1577\n",
            "\n",
            "\n",
            "\n"
          ]
        }
      ],
      "source": [
        "mnb=MultinomialNB()\n",
        "knn=KNeighborsClassifier()\n",
        "dtc=DecisionTreeClassifier(criterion='gini')\n",
        "dtcr=DecisionTreeClassifier(criterion='entropy')\n",
        "\n",
        "model=[mnb,knn,dtc,dtcr]\n",
        "\n",
        "for i in model:\n",
        "    i.fit(x_train,y_train)\n",
        "    print(\"Score: \",i,i.score(x_train,y_train))\n",
        "    mpred=i.predict(x_test)\n",
        "    print('Accuracy_score: ',accuracy_score(y_test,mpred))\n",
        "    print(\"Confusion_matrix: \",confusion_matrix(y_test,mpred))\n",
        "\n",
        "    print('Classification Report: \\n',classification_report(y_test,mpred))\n",
        "    print('\\n')\n"
      ]
    },
    {
      "cell_type": "code",
      "execution_count": null,
      "id": "3ebdd2bf",
      "metadata": {
        "execution": {
          "iopub.execute_input": "2023-05-19T06:47:40.762469Z",
          "iopub.status.busy": "2023-05-19T06:47:40.760522Z",
          "iopub.status.idle": "2023-05-19T06:48:11.085838Z",
          "shell.execute_reply": "2023-05-19T06:48:11.082510Z"
        },
        "papermill": {
          "duration": 30.363505,
          "end_time": "2023-05-19T06:48:11.106145",
          "exception": false,
          "start_time": "2023-05-19T06:47:40.742640",
          "status": "completed"
        },
        "tags": [],
        "colab": {
          "base_uri": "https://localhost:8080/"
        },
        "id": "3ebdd2bf",
        "outputId": "4f58cd4b-7e98-4df3-b170-2b753e8ca042"
      },
      "outputs": [
        {
          "output_type": "stream",
          "name": "stdout",
          "text": [
            "rbf 0.48462270133164237\n",
            "Accuracy_score:  0.4679771718452758\n",
            "Confusion_matrix:  [[169  41  69  73]\n",
            " [121  49 177  42]\n",
            " [ 97  39 225  44]\n",
            " [ 89  27  20 295]]\n",
            "Classification_report:                precision    recall  f1-score   support\n",
            "\n",
            "           0       0.36      0.48      0.41       352\n",
            "           1       0.31      0.13      0.18       389\n",
            "           2       0.46      0.56      0.50       405\n",
            "           3       0.65      0.68      0.67       431\n",
            "\n",
            "    accuracy                           0.47      1577\n",
            "   macro avg       0.44      0.46      0.44      1577\n",
            "weighted avg       0.45      0.47      0.45      1577\n",
            "\n",
            "poly 0.4766962587190869\n",
            "Accuracy_score:  0.46670894102726695\n",
            "Confusion_matrix:  [[129  37  41 145]\n",
            " [136  33 134  86]\n",
            " [ 76  45 211  73]\n",
            " [ 43  17   8 363]]\n",
            "Classification_report:                precision    recall  f1-score   support\n",
            "\n",
            "           0       0.34      0.37      0.35       352\n",
            "           1       0.25      0.08      0.13       389\n",
            "           2       0.54      0.52      0.53       405\n",
            "           3       0.54      0.84      0.66       431\n",
            "\n",
            "    accuracy                           0.47      1577\n",
            "   macro avg       0.42      0.45      0.42      1577\n",
            "weighted avg       0.42      0.47      0.43      1577\n",
            "\n",
            "linear 0.4936588459099556\n",
            "Accuracy_score:  0.46924540266328474\n",
            "Confusion_matrix:  [[176  31  61  84]\n",
            " [153  22 172  42]\n",
            " [ 87  35 237  46]\n",
            " [ 94  13  19 305]]\n",
            "Classification_report:                precision    recall  f1-score   support\n",
            "\n",
            "           0       0.35      0.50      0.41       352\n",
            "           1       0.22      0.06      0.09       389\n",
            "           2       0.48      0.59      0.53       405\n",
            "           3       0.64      0.71      0.67       431\n",
            "\n",
            "    accuracy                           0.47      1577\n",
            "   macro avg       0.42      0.46      0.43      1577\n",
            "weighted avg       0.43      0.47      0.43      1577\n",
            "\n"
          ]
        }
      ],
      "source": [
        "kernel=['rbf','poly','linear']\n",
        "\n",
        "for i in kernel:\n",
        "    svc=SVC(kernel=i)\n",
        "    svc.fit(x_train,y_train)\n",
        "    print(i,svc.score(x_train,y_train))\n",
        "    svcpred=svc.predict(x_test)\n",
        "    print(\"Accuracy_score: \",accuracy_score(y_test,svcpred))\n",
        "    print(\"Confusion_matrix: \",confusion_matrix(y_test,svcpred))\n",
        "    print(\"Classification_report: \",classification_report(y_test,svcpred))\n",
        "\n"
      ]
    },
    {
      "cell_type": "code",
      "execution_count": null,
      "id": "73fa0c06",
      "metadata": {
        "execution": {
          "iopub.execute_input": "2023-05-19T06:48:11.141773Z",
          "iopub.status.busy": "2023-05-19T06:48:11.141356Z",
          "iopub.status.idle": "2023-05-19T06:48:12.368963Z",
          "shell.execute_reply": "2023-05-19T06:48:12.366872Z"
        },
        "papermill": {
          "duration": 1.249211,
          "end_time": "2023-05-19T06:48:12.372056",
          "exception": false,
          "start_time": "2023-05-19T06:48:11.122845",
          "status": "completed"
        },
        "tags": [],
        "colab": {
          "base_uri": "https://localhost:8080/"
        },
        "id": "73fa0c06",
        "outputId": "3f276018-bf99-47f3-974c-748e929fe5a0"
      },
      "outputs": [
        {
          "output_type": "stream",
          "name": "stdout",
          "text": [
            "RF score:  0.9633798351299937\n",
            "Accuracy_score:  0.501585288522511\n",
            "Confusion_matrix:  [[145  77  44  86]\n",
            " [ 94 143 114  38]\n",
            " [ 58  95 211  41]\n",
            " [ 80  32  27 292]]\n",
            "Classification report:                precision    recall  f1-score   support\n",
            "\n",
            "           0       0.38      0.41      0.40       352\n",
            "           1       0.41      0.37      0.39       389\n",
            "           2       0.53      0.52      0.53       405\n",
            "           3       0.64      0.68      0.66       431\n",
            "\n",
            "    accuracy                           0.50      1577\n",
            "   macro avg       0.49      0.49      0.49      1577\n",
            "weighted avg       0.50      0.50      0.50      1577\n",
            "\n"
          ]
        }
      ],
      "source": [
        "#RandomForestClassifier Applied\n",
        "from sklearn.ensemble import RandomForestClassifier\n",
        "rf=RandomForestClassifier(n_estimators=110,random_state=40)\n",
        "rf.fit(x_train,y_train)\n",
        "print('RF score: ',rf.score(x_train,y_train))\n",
        "rfpred=rf.predict(x_test)\n",
        "print('Accuracy_score: ',accuracy_score(y_test,rfpred))\n",
        "print('Confusion_matrix: ',confusion_matrix(y_test,rfpred))\n",
        "print('Classification report: ',classification_report(y_test,rfpred))"
      ]
    },
    {
      "cell_type": "code",
      "execution_count": null,
      "id": "4744c1cb",
      "metadata": {
        "execution": {
          "iopub.execute_input": "2023-05-19T06:48:12.409935Z",
          "iopub.status.busy": "2023-05-19T06:48:12.408545Z",
          "iopub.status.idle": "2023-05-19T06:48:13.455115Z",
          "shell.execute_reply": "2023-05-19T06:48:13.453548Z"
        },
        "papermill": {
          "duration": 1.068531,
          "end_time": "2023-05-19T06:48:13.457792",
          "exception": false,
          "start_time": "2023-05-19T06:48:12.389261",
          "status": "completed"
        },
        "tags": [],
        "colab": {
          "base_uri": "https://localhost:8080/"
        },
        "id": "4744c1cb",
        "outputId": "2fa191aa-1ef0-46d9-ed3e-b6bae01eacbe"
      },
      "outputs": [
        {
          "output_type": "stream",
          "name": "stdout",
          "text": [
            "Extra trees score:  0.9633798351299937\n",
            "Accuracy_score:  0.4838300570703868\n",
            "Confusion_matrix:  [[149  70  50  83]\n",
            " [ 91 137 116  45]\n",
            " [ 62 107 199  37]\n",
            " [ 87  34  32 278]]\n",
            "Classification_report:                precision    recall  f1-score   support\n",
            "\n",
            "           0       0.38      0.42      0.40       352\n",
            "           1       0.39      0.35      0.37       389\n",
            "           2       0.50      0.49      0.50       405\n",
            "           3       0.63      0.65      0.64       431\n",
            "\n",
            "    accuracy                           0.48      1577\n",
            "   macro avg       0.48      0.48      0.48      1577\n",
            "weighted avg       0.48      0.48      0.48      1577\n",
            "\n"
          ]
        }
      ],
      "source": [
        "#Extra Tress Classifier model applied\n",
        "from sklearn.ensemble import ExtraTreesClassifier\n",
        "et=ExtraTreesClassifier(n_estimators=100,random_state=42)\n",
        "et.fit(x_train,y_train)\n",
        "print('Extra trees score: ',et.score(x_train,y_train))\n",
        "etpred=et.predict(x_test)\n",
        "print('Accuracy_score: ',accuracy_score(y_test,etpred))\n",
        "print('Confusion_matrix: ',confusion_matrix(y_test,etpred))\n",
        "print('Classification_report: ',classification_report(y_test,etpred))"
      ]
    },
    {
      "cell_type": "code",
      "execution_count": null,
      "id": "00978f79",
      "metadata": {
        "execution": {
          "iopub.execute_input": "2023-05-19T06:48:13.494684Z",
          "iopub.status.busy": "2023-05-19T06:48:13.494274Z",
          "iopub.status.idle": "2023-05-19T06:48:13.500637Z",
          "shell.execute_reply": "2023-05-19T06:48:13.499224Z"
        },
        "papermill": {
          "duration": 0.027972,
          "end_time": "2023-05-19T06:48:13.503196",
          "exception": false,
          "start_time": "2023-05-19T06:48:13.475224",
          "status": "completed"
        },
        "tags": [],
        "id": "00978f79"
      },
      "outputs": [],
      "source": [
        "import warnings\n",
        "warnings.filterwarnings('ignore')"
      ]
    },
    {
      "cell_type": "code",
      "execution_count": null,
      "id": "61d843eb",
      "metadata": {
        "execution": {
          "iopub.execute_input": "2023-05-19T06:48:13.547164Z",
          "iopub.status.busy": "2023-05-19T06:48:13.546624Z",
          "iopub.status.idle": "2023-05-19T06:48:14.899908Z",
          "shell.execute_reply": "2023-05-19T06:48:14.898415Z"
        },
        "papermill": {
          "duration": 1.376144,
          "end_time": "2023-05-19T06:48:14.902331",
          "exception": false,
          "start_time": "2023-05-19T06:48:13.526187",
          "status": "completed"
        },
        "tags": [],
        "colab": {
          "base_uri": "https://localhost:8080/"
        },
        "id": "61d843eb",
        "outputId": "b5aacc47-8c33-4b5b-fb47-904f48e0bf0e"
      },
      "outputs": [
        {
          "output_type": "stream",
          "name": "stdout",
          "text": [
            "ADA score :  0.9633798351299937\n",
            "Accuracy_score 0.41915028535193405\n",
            "Confusion_matrix [[124  89  61  78]\n",
            " [ 95 131 115  48]\n",
            " [ 79 120 165  41]\n",
            " [101  49  40 241]]\n",
            "Classification_report               precision    recall  f1-score   support\n",
            "\n",
            "           0       0.31      0.35      0.33       352\n",
            "           1       0.34      0.34      0.34       389\n",
            "           2       0.43      0.41      0.42       405\n",
            "           3       0.59      0.56      0.57       431\n",
            "\n",
            "    accuracy                           0.42      1577\n",
            "   macro avg       0.42      0.41      0.42      1577\n",
            "weighted avg       0.43      0.42      0.42      1577\n",
            "\n"
          ]
        }
      ],
      "source": [
        "#Ada Boost Classifier model applied\n",
        "from sklearn.tree import DecisionTreeClassifier\n",
        "from sklearn.ensemble import AdaBoostClassifier\n",
        "ad=AdaBoostClassifier(base_estimator=DecisionTreeClassifier(),n_estimators=50,learning_rate=1.0,algorithm='SAMME.R')\n",
        "\n",
        "ad.fit(x_train,y_train)\n",
        "print('ADA score : ',ad.score(x_train,y_train))\n",
        "adpred=ad.predict(x_test)\n",
        "print('Accuracy_score',accuracy_score(y_test,adpred))\n",
        "print('Confusion_matrix',confusion_matrix(y_test,adpred))\n",
        "print('Classification_report',classification_report(y_test,adpred))"
      ]
    },
    {
      "cell_type": "code",
      "execution_count": null,
      "id": "a85b3446",
      "metadata": {
        "execution": {
          "iopub.execute_input": "2023-05-19T06:58:22.007283Z",
          "iopub.status.busy": "2023-05-19T06:58:22.006884Z",
          "iopub.status.idle": "2023-05-19T06:58:22.015534Z",
          "shell.execute_reply": "2023-05-19T06:58:22.012836Z"
        },
        "papermill": {
          "duration": 0.033849,
          "end_time": "2023-05-19T06:58:22.019060",
          "exception": false,
          "start_time": "2023-05-19T06:58:21.985211",
          "status": "completed"
        },
        "tags": [],
        "id": "a85b3446"
      },
      "outputs": [],
      "source": [
        "from sklearn.ensemble import VotingClassifier\n",
        "\n",
        "estimators=[]\n",
        "estimators.append(('svc',SVC(gamma='auto',probability=True)))\n",
        "estimators.append(('dtc',DecisionTreeClassifier()))\n",
        "estimators.append(('knn',KNeighborsClassifier()))\n",
        "estimators.append(('RF',RandomForestClassifier()))\n",
        "\n"
      ]
    },
    {
      "cell_type": "code",
      "execution_count": null,
      "id": "fae2c48c",
      "metadata": {
        "execution": {
          "iopub.execute_input": "2023-05-19T06:58:22.058030Z",
          "iopub.status.busy": "2023-05-19T06:58:22.057352Z",
          "iopub.status.idle": "2023-05-19T06:58:22.068281Z",
          "shell.execute_reply": "2023-05-19T06:58:22.066252Z"
        },
        "papermill": {
          "duration": 0.033374,
          "end_time": "2023-05-19T06:58:22.071071",
          "exception": false,
          "start_time": "2023-05-19T06:58:22.037697",
          "status": "completed"
        },
        "tags": [],
        "colab": {
          "base_uri": "https://localhost:8080/"
        },
        "id": "fae2c48c",
        "outputId": "bf29381d-13c6-464f-b5d1-6c77c33e5e2c"
      },
      "outputs": [
        {
          "output_type": "execute_result",
          "data": {
            "text/plain": [
              "[('svc', SVC(gamma='auto', probability=True)),\n",
              " ('dtc', DecisionTreeClassifier()),\n",
              " ('knn', KNeighborsClassifier())]"
            ]
          },
          "metadata": {},
          "execution_count": 36
        }
      ],
      "source": [
        "estimators"
      ]
    },
    {
      "cell_type": "code",
      "execution_count": null,
      "id": "f2e3ee75",
      "metadata": {
        "execution": {
          "iopub.execute_input": "2023-05-19T06:58:22.112759Z",
          "iopub.status.busy": "2023-05-19T06:58:22.112321Z",
          "iopub.status.idle": "2023-05-19T06:58:33.921898Z",
          "shell.execute_reply": "2023-05-19T06:58:33.920913Z"
        },
        "papermill": {
          "duration": 11.831644,
          "end_time": "2023-05-19T06:58:33.924330",
          "exception": false,
          "start_time": "2023-05-19T06:58:22.092686",
          "status": "completed"
        },
        "tags": [],
        "colab": {
          "base_uri": "https://localhost:8080/"
        },
        "id": "f2e3ee75",
        "outputId": "166b38d1-69c5-4fad-985d-9e006afdbbda"
      },
      "outputs": [
        {
          "output_type": "stream",
          "name": "stdout",
          "text": [
            "0.7598287888395688\n",
            "Hard voting score %d 0.4749524413443247\n",
            "[0 2 2 ... 0 3 1]\n"
          ]
        }
      ],
      "source": [
        "vot_hard=VotingClassifier(estimators,voting='hard')\n",
        "vot_hard.fit(x_train,y_train)\n",
        "print(vot_hard.score(x_train,y_train))\n",
        "predh=vot_hard.predict(x_test)\n",
        "score=accuracy_score(y_test,predh)\n",
        "print(\"Hard voting score %d\",score)\n",
        "print(predh)"
      ]
    },
    {
      "cell_type": "code",
      "execution_count": null,
      "id": "a1231ed8",
      "metadata": {
        "execution": {
          "iopub.execute_input": "2023-05-19T06:58:33.963053Z",
          "iopub.status.busy": "2023-05-19T06:58:33.962609Z",
          "iopub.status.idle": "2023-05-19T06:58:45.909112Z",
          "shell.execute_reply": "2023-05-19T06:58:45.908191Z"
        },
        "papermill": {
          "duration": 11.969092,
          "end_time": "2023-05-19T06:58:45.911388",
          "exception": false,
          "start_time": "2023-05-19T06:58:33.942296",
          "status": "completed"
        },
        "tags": [],
        "colab": {
          "base_uri": "https://localhost:8080/"
        },
        "id": "a1231ed8",
        "outputId": "6000415c-7ac3-42ff-be08-3c7f8c57a1be"
      },
      "outputs": [
        {
          "output_type": "stream",
          "name": "stdout",
          "text": [
            "0.9548192771084337\n",
            "soft voting score %d 0.4540266328471782\n",
            "[0 2 2 ... 0 3 1]\n"
          ]
        }
      ],
      "source": [
        "vot_soft=VotingClassifier(estimators=estimators,voting='soft')\n",
        "vot_soft.fit(x_train,y_train)\n",
        "print(vot_soft.score(x_train,y_train))\n",
        "preds=vot_soft.predict(x_test)\n",
        "score=accuracy_score(y_test,preds)\n",
        "print('soft voting score %d',score)\n",
        "print(preds)"
      ]
    },
    {
      "cell_type": "code",
      "execution_count": null,
      "id": "78cc5703",
      "metadata": {
        "execution": {
          "iopub.execute_input": "2023-05-19T06:58:45.962670Z",
          "iopub.status.busy": "2023-05-19T06:58:45.960657Z",
          "iopub.status.idle": "2023-05-19T07:06:10.412712Z",
          "shell.execute_reply": "2023-05-19T07:06:10.411809Z"
        },
        "papermill": {
          "duration": 444.49751,
          "end_time": "2023-05-19T07:06:10.431574",
          "exception": false,
          "start_time": "2023-05-19T06:58:45.934064",
          "status": "completed"
        },
        "tags": [],
        "id": "78cc5703",
        "colab": {
          "base_uri": "https://localhost:8080/"
        },
        "outputId": "7202cae2-6330-42a4-d32d-8e8a1e13576f"
      },
      "outputs": [
        {
          "output_type": "stream",
          "name": "stdout",
          "text": [
            "GridSearchCV(estimator=SVC(),\n",
            "             param_grid={'C': [1, 10], 'kernel': ['rbf', 'poly', 'linear']})\n",
            "0.4967660114140774\n",
            "rbf\n",
            "{'C': 10, 'kernel': 'rbf'}\n"
          ]
        }
      ],
      "source": [
        "#Applying Gridsearchcv\n",
        "\n",
        "from sklearn.model_selection import GridSearchCV\n",
        "\n",
        "svc=SVC()\n",
        "\n",
        "parameter={'kernel':['rbf','poly','linear'],'C':[1,10]}\n",
        "\n",
        "model=svc\n",
        "\n",
        "grid=GridSearchCV(estimator=model,param_grid=parameter)\n",
        "grid.fit(x,y)\n",
        "print(grid)\n",
        "print(grid.best_score_)\n",
        "print(grid.best_estimator_.kernel)\n",
        "print(grid.best_params_)\n"
      ]
    },
    {
      "cell_type": "code",
      "execution_count": null,
      "id": "ee71f313",
      "metadata": {
        "execution": {
          "iopub.execute_input": "2023-05-19T07:06:10.468831Z",
          "iopub.status.busy": "2023-05-19T07:06:10.468199Z",
          "iopub.status.idle": "2023-05-19T07:06:10.764013Z",
          "shell.execute_reply": "2023-05-19T07:06:10.762500Z"
        },
        "papermill": {
          "duration": 0.316571,
          "end_time": "2023-05-19T07:06:10.766192",
          "exception": false,
          "start_time": "2023-05-19T07:06:10.449621",
          "status": "completed"
        },
        "tags": [],
        "id": "ee71f313",
        "outputId": "d7e78520-37ee-403b-ee80-25950a26b60b",
        "colab": {
          "base_uri": "https://localhost:8080/"
        }
      },
      "outputs": [
        {
          "output_type": "stream",
          "name": "stdout",
          "text": [
            "GridSearchCV(estimator=DecisionTreeClassifier(),\n",
            "             param_grid={'criterion': ['gini', 'entropy']})\n",
            "0.42878883956880154\n",
            "gini\n",
            "{'criterion': 'gini'}\n"
          ]
        }
      ],
      "source": [
        "from sklearn.model_selection import GridSearchCV\n",
        "\n",
        "dtc=DecisionTreeClassifier()\n",
        "\n",
        "parameter={'criterion':['gini','entropy']}\n",
        "\n",
        "model=dtc\n",
        "\n",
        "grid=GridSearchCV(estimator=model,param_grid=parameter)\n",
        "grid.fit(x,y)\n",
        "print(grid)\n",
        "print(grid.best_score_)\n",
        "print(grid.best_estimator_.criterion)\n",
        "print(grid.best_params_)"
      ]
    },
    {
      "cell_type": "code",
      "execution_count": null,
      "id": "51699496",
      "metadata": {
        "execution": {
          "iopub.execute_input": "2023-05-19T07:06:10.803712Z",
          "iopub.status.busy": "2023-05-19T07:06:10.803361Z",
          "iopub.status.idle": "2023-05-19T07:13:33.307056Z",
          "shell.execute_reply": "2023-05-19T07:13:33.306103Z"
        },
        "papermill": {
          "duration": 442.541778,
          "end_time": "2023-05-19T07:13:33.326213",
          "exception": false,
          "start_time": "2023-05-19T07:06:10.784435",
          "status": "completed"
        },
        "tags": [],
        "id": "51699496",
        "outputId": "f9349f71-6fb1-4e8e-8bc5-cef486161c0d",
        "colab": {
          "base_uri": "https://localhost:8080/"
        }
      },
      "outputs": [
        {
          "output_type": "stream",
          "name": "stdout",
          "text": [
            "0.4967660114140774\n",
            "rbf\n",
            "{'kernel': 'rbf', 'C': 10}\n"
          ]
        }
      ],
      "source": [
        "#applying Randomized search CV to check the best kernel to be applied in SVC\n",
        "from sklearn.model_selection import RandomizedSearchCV\n",
        "svc=SVC()\n",
        "\n",
        "parameter={'kernel':['rbf','poly','linear'],'C':[1,10]}\n",
        "\n",
        "model=svc\n",
        "\n",
        "random=RandomizedSearchCV(estimator=model,param_distributions=parameter)\n",
        "\n",
        "random.fit(x,y)\n",
        "print(random.best_score_)\n",
        "print(random.best_estimator_.kernel)\n",
        "print(random.best_params_)"
      ]
    },
    {
      "cell_type": "code",
      "execution_count": null,
      "id": "0c1cd4c8",
      "metadata": {
        "execution": {
          "iopub.execute_input": "2023-05-19T07:13:33.364363Z",
          "iopub.status.busy": "2023-05-19T07:13:33.363104Z",
          "iopub.status.idle": "2023-05-19T07:13:33.655499Z",
          "shell.execute_reply": "2023-05-19T07:13:33.653654Z"
        },
        "papermill": {
          "duration": 0.313918,
          "end_time": "2023-05-19T07:13:33.657824",
          "exception": false,
          "start_time": "2023-05-19T07:13:33.343906",
          "status": "completed"
        },
        "tags": [],
        "id": "0c1cd4c8",
        "outputId": "17e172d0-44a7-4434-a93a-755eb2c857e8",
        "colab": {
          "base_uri": "https://localhost:8080/"
        }
      },
      "outputs": [
        {
          "output_type": "stream",
          "name": "stdout",
          "text": [
            "0.43157894736842106\n",
            "gini\n",
            "{'criterion': 'gini'}\n"
          ]
        }
      ],
      "source": [
        "#applying Randomized search CV to check the best criterion to be applied in Decision Tree Classifier\n",
        "from sklearn.model_selection import RandomizedSearchCV\n",
        "dtc=DecisionTreeClassifier()\n",
        "\n",
        "criterion_value={'criterion':['gini','entropy']}\n",
        "model=dtc\n",
        "\n",
        "random=RandomizedSearchCV(estimator=model,param_distributions=criterion_value)\n",
        "random.fit(x,y)\n",
        "print(random.best_score_)\n",
        "print(random.best_estimator_.criterion)\n",
        "print(random.best_params_)"
      ]
    }
  ],
  "metadata": {
    "kernelspec": {
      "display_name": "Python 3",
      "language": "python",
      "name": "python3"
    },
    "language_info": {
      "codemirror_mode": {
        "name": "ipython",
        "version": 3
      },
      "file_extension": ".py",
      "mimetype": "text/x-python",
      "name": "python",
      "nbconvert_exporter": "python",
      "pygments_lexer": "ipython3",
      "version": "3.10.10"
    },
    "papermill": {
      "default_parameters": {},
      "duration": 1571.694183,
      "end_time": "2023-05-19T07:13:34.901596",
      "environment_variables": {},
      "exception": null,
      "input_path": "__notebook__.ipynb",
      "output_path": "__notebook__.ipynb",
      "parameters": {},
      "start_time": "2023-05-19T06:47:23.207413",
      "version": "2.4.0"
    },
    "colab": {
      "provenance": []
    }
  },
  "nbformat": 4,
  "nbformat_minor": 5
}